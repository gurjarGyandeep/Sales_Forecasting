{
 "cells": [
  {
   "cell_type": "markdown",
   "id": "4de65208",
   "metadata": {},
   "source": [
    "<h3><span style=\"color:Blue\">\n",
    "Online Retail Dataset\n",
    "</span></h3> "
   ]
  },
  {
   "cell_type": "markdown",
   "id": "ab35b966",
   "metadata": {},
   "source": [
    "<h3><span style=\"color:Green\">\n",
    "Overview\n",
    "</span></h3> "
   ]
  },
  {
   "cell_type": "markdown",
   "id": "ea24a4d3",
   "metadata": {},
   "source": [
    "The Online Retail dataset provides insights into the sales activities of an online store spanning from December 1, 2009, to December 9, 2011. This dataset encompasses a wide range of souvenir products, primarily targeting corporate customers."
   ]
  },
  {
   "cell_type": "markdown",
   "id": "902ca544",
   "metadata": {},
   "source": [
    "<h3><span style=\"color:Green\">\n",
    "Objective\n",
    "</span></h3> "
   ]
  },
  {
   "cell_type": "markdown",
   "id": "c3d3b214",
   "metadata": {},
   "source": [
    "The objective of this analysis is to perform sales forecasting on a retail dataset. By leveraging the different models, we aim to identify the best-fitting model parameters that can accurately predict future sales trends. "
   ]
  },
  {
   "cell_type": "markdown",
   "id": "75f886ec",
   "metadata": {},
   "source": [
    "### Variables Description\n",
    "<h4>This section provides a comprehensive overview of the variables in the Online Retail - II dataset:<br><br>\n",
    "    a.InvoiceNo: A unique identifier for each transaction. Transactions prefixed with \"C\" indicate refunds.<br><br>\n",
    "    b.StockCode: A distinct code assigned to each inventory item.<br><br>\n",
    "    c.Description: The name of the item purchased.<br><br>\n",
    "    d.Quantity: The number of items in the transaction.<br><br>\n",
    "    e.InvoiceDate: The date and time when the transaction took place.<br><br>\n",
    "    f.Price: The price per item in Sterling.<br><br>\n",
    "    g.CustomerID: A unique identifier for each customer.<br><br>\n",
    "    h.Country: The customers country of residence.<br><br>\n",
    "    "
   ]
  },
  {
   "cell_type": "code",
   "execution_count": 72,
   "id": "d567b437",
   "metadata": {},
   "outputs": [],
   "source": [
    "import pandas as pd\n",
    "import matplotlib.pyplot as plt\n",
    "import seaborn as sns"
   ]
  },
  {
   "cell_type": "code",
   "execution_count": 2,
   "id": "cef6bb01",
   "metadata": {},
   "outputs": [],
   "source": [
    "# Read the datasets\n",
    "C_items = pd.read_excel(\"customer_transactions_sample (1).xlsx\", sheet_name= \"Year 2009-2010\")"
   ]
  },
  {
   "cell_type": "code",
   "execution_count": 3,
   "id": "ddd78e76",
   "metadata": {},
   "outputs": [],
   "source": [
    "# Read the datasets\n",
    "C_items1 = pd.read_excel(\"customer_transactions_sample (1).xlsx\", sheet_name= \"Year 2010-2011\")"
   ]
  },
  {
   "cell_type": "code",
   "execution_count": 4,
   "id": "2ed03bf0",
   "metadata": {},
   "outputs": [
    {
     "name": "stdout",
     "output_type": "stream",
     "text": [
      "<class 'pandas.core.frame.DataFrame'>\n",
      "RangeIndex: 525461 entries, 0 to 525460\n",
      "Data columns (total 8 columns):\n",
      " #   Column       Non-Null Count   Dtype         \n",
      "---  ------       --------------   -----         \n",
      " 0   Invoice      525461 non-null  object        \n",
      " 1   StockCode    525461 non-null  object        \n",
      " 2   Description  522533 non-null  object        \n",
      " 3   Quantity     525461 non-null  int64         \n",
      " 4   InvoiceDate  525461 non-null  datetime64[ns]\n",
      " 5   Price        525461 non-null  float64       \n",
      " 6   Customer ID  417534 non-null  float64       \n",
      " 7   Country      525461 non-null  object        \n",
      "dtypes: datetime64[ns](1), float64(2), int64(1), object(4)\n",
      "memory usage: 32.1+ MB\n"
     ]
    }
   ],
   "source": [
    "C_items.info()"
   ]
  },
  {
   "cell_type": "code",
   "execution_count": 5,
   "id": "c1070cc9",
   "metadata": {},
   "outputs": [
    {
     "name": "stdout",
     "output_type": "stream",
     "text": [
      "<class 'pandas.core.frame.DataFrame'>\n",
      "RangeIndex: 541910 entries, 0 to 541909\n",
      "Data columns (total 8 columns):\n",
      " #   Column       Non-Null Count   Dtype         \n",
      "---  ------       --------------   -----         \n",
      " 0   Invoice      541910 non-null  object        \n",
      " 1   StockCode    541910 non-null  object        \n",
      " 2   Description  540456 non-null  object        \n",
      " 3   Quantity     541910 non-null  int64         \n",
      " 4   InvoiceDate  541910 non-null  datetime64[ns]\n",
      " 5   Price        541910 non-null  float64       \n",
      " 6   Customer ID  406830 non-null  float64       \n",
      " 7   Country      541910 non-null  object        \n",
      "dtypes: datetime64[ns](1), float64(2), int64(1), object(4)\n",
      "memory usage: 33.1+ MB\n"
     ]
    }
   ],
   "source": [
    "C_items1.info()"
   ]
  },
  {
   "cell_type": "code",
   "execution_count": 6,
   "id": "65bd1de0",
   "metadata": {},
   "outputs": [
    {
     "data": {
      "text/plain": [
       "Invoice             0\n",
       "StockCode           0\n",
       "Description      2928\n",
       "Quantity            0\n",
       "InvoiceDate         0\n",
       "Price               0\n",
       "Customer ID    107927\n",
       "Country             0\n",
       "dtype: int64"
      ]
     },
     "execution_count": 6,
     "metadata": {},
     "output_type": "execute_result"
    }
   ],
   "source": [
    "# Check for missing values in each column\n",
    "C_items.isnull().sum()"
   ]
  },
  {
   "cell_type": "code",
   "execution_count": 7,
   "id": "4f5efcc3",
   "metadata": {},
   "outputs": [
    {
     "data": {
      "text/html": [
       "<div>\n",
       "<style scoped>\n",
       "    .dataframe tbody tr th:only-of-type {\n",
       "        vertical-align: middle;\n",
       "    }\n",
       "\n",
       "    .dataframe tbody tr th {\n",
       "        vertical-align: top;\n",
       "    }\n",
       "\n",
       "    .dataframe thead th {\n",
       "        text-align: right;\n",
       "    }\n",
       "</style>\n",
       "<table border=\"1\" class=\"dataframe\">\n",
       "  <thead>\n",
       "    <tr style=\"text-align: right;\">\n",
       "      <th></th>\n",
       "      <th>Invoice</th>\n",
       "      <th>StockCode</th>\n",
       "      <th>Description</th>\n",
       "      <th>Quantity</th>\n",
       "      <th>InvoiceDate</th>\n",
       "      <th>Price</th>\n",
       "      <th>Customer ID</th>\n",
       "      <th>Country</th>\n",
       "    </tr>\n",
       "  </thead>\n",
       "  <tbody>\n",
       "    <tr>\n",
       "      <th>371</th>\n",
       "      <td>489517</td>\n",
       "      <td>21912</td>\n",
       "      <td>VINTAGE SNAKES &amp; LADDERS</td>\n",
       "      <td>1</td>\n",
       "      <td>2009-12-01 11:34:00</td>\n",
       "      <td>3.75</td>\n",
       "      <td>16329.0</td>\n",
       "      <td>United Kingdom</td>\n",
       "    </tr>\n",
       "    <tr>\n",
       "      <th>383</th>\n",
       "      <td>489517</td>\n",
       "      <td>22130</td>\n",
       "      <td>PARTY CONE CHRISTMAS DECORATION</td>\n",
       "      <td>6</td>\n",
       "      <td>2009-12-01 11:34:00</td>\n",
       "      <td>0.85</td>\n",
       "      <td>16329.0</td>\n",
       "      <td>United Kingdom</td>\n",
       "    </tr>\n",
       "    <tr>\n",
       "      <th>384</th>\n",
       "      <td>489517</td>\n",
       "      <td>22319</td>\n",
       "      <td>HAIRCLIPS FORTIES FABRIC ASSORTED</td>\n",
       "      <td>12</td>\n",
       "      <td>2009-12-01 11:34:00</td>\n",
       "      <td>0.65</td>\n",
       "      <td>16329.0</td>\n",
       "      <td>United Kingdom</td>\n",
       "    </tr>\n",
       "    <tr>\n",
       "      <th>385</th>\n",
       "      <td>489517</td>\n",
       "      <td>21913</td>\n",
       "      <td>VINTAGE SEASIDE JIGSAW PUZZLES</td>\n",
       "      <td>1</td>\n",
       "      <td>2009-12-01 11:34:00</td>\n",
       "      <td>3.75</td>\n",
       "      <td>16329.0</td>\n",
       "      <td>United Kingdom</td>\n",
       "    </tr>\n",
       "    <tr>\n",
       "      <th>386</th>\n",
       "      <td>489517</td>\n",
       "      <td>21821</td>\n",
       "      <td>GLITTER STAR GARLAND WITH BELLS</td>\n",
       "      <td>1</td>\n",
       "      <td>2009-12-01 11:34:00</td>\n",
       "      <td>3.75</td>\n",
       "      <td>16329.0</td>\n",
       "      <td>United Kingdom</td>\n",
       "    </tr>\n",
       "    <tr>\n",
       "      <th>...</th>\n",
       "      <td>...</td>\n",
       "      <td>...</td>\n",
       "      <td>...</td>\n",
       "      <td>...</td>\n",
       "      <td>...</td>\n",
       "      <td>...</td>\n",
       "      <td>...</td>\n",
       "      <td>...</td>\n",
       "    </tr>\n",
       "    <tr>\n",
       "      <th>523258</th>\n",
       "      <td>538035</td>\n",
       "      <td>20728</td>\n",
       "      <td>LUNCH BAG CARS BLUE</td>\n",
       "      <td>3</td>\n",
       "      <td>2010-12-09 13:03:00</td>\n",
       "      <td>1.65</td>\n",
       "      <td>16065.0</td>\n",
       "      <td>United Kingdom</td>\n",
       "    </tr>\n",
       "    <tr>\n",
       "      <th>523356</th>\n",
       "      <td>538051</td>\n",
       "      <td>22659</td>\n",
       "      <td>LUNCH BOX I LOVE LONDON</td>\n",
       "      <td>2</td>\n",
       "      <td>2010-12-09 13:24:00</td>\n",
       "      <td>1.95</td>\n",
       "      <td>18041.0</td>\n",
       "      <td>United Kingdom</td>\n",
       "    </tr>\n",
       "    <tr>\n",
       "      <th>525170</th>\n",
       "      <td>538155</td>\n",
       "      <td>21907</td>\n",
       "      <td>I'M ON HOLIDAY METAL SIGN</td>\n",
       "      <td>1</td>\n",
       "      <td>2010-12-09 16:52:00</td>\n",
       "      <td>2.10</td>\n",
       "      <td>16907.0</td>\n",
       "      <td>United Kingdom</td>\n",
       "    </tr>\n",
       "    <tr>\n",
       "      <th>525293</th>\n",
       "      <td>538166</td>\n",
       "      <td>21915</td>\n",
       "      <td>RED  HARMONICA IN BOX</td>\n",
       "      <td>5</td>\n",
       "      <td>2010-12-09 18:09:00</td>\n",
       "      <td>1.25</td>\n",
       "      <td>17965.0</td>\n",
       "      <td>United Kingdom</td>\n",
       "    </tr>\n",
       "    <tr>\n",
       "      <th>525340</th>\n",
       "      <td>538168</td>\n",
       "      <td>22739</td>\n",
       "      <td>RIBBON REEL CHRISTMAS SOCK BAUBLE</td>\n",
       "      <td>5</td>\n",
       "      <td>2010-12-09 19:23:00</td>\n",
       "      <td>1.65</td>\n",
       "      <td>14702.0</td>\n",
       "      <td>United Kingdom</td>\n",
       "    </tr>\n",
       "  </tbody>\n",
       "</table>\n",
       "<p>6865 rows × 8 columns</p>\n",
       "</div>"
      ],
      "text/plain": [
       "       Invoice StockCode                        Description  Quantity  \\\n",
       "371     489517     21912           VINTAGE SNAKES & LADDERS         1   \n",
       "383     489517     22130   PARTY CONE CHRISTMAS DECORATION          6   \n",
       "384     489517     22319  HAIRCLIPS FORTIES FABRIC ASSORTED        12   \n",
       "385     489517     21913     VINTAGE SEASIDE JIGSAW PUZZLES         1   \n",
       "386     489517     21821   GLITTER STAR GARLAND WITH BELLS          1   \n",
       "...        ...       ...                                ...       ...   \n",
       "523258  538035     20728                LUNCH BAG CARS BLUE         3   \n",
       "523356  538051     22659            LUNCH BOX I LOVE LONDON         2   \n",
       "525170  538155     21907          I'M ON HOLIDAY METAL SIGN         1   \n",
       "525293  538166     21915             RED  HARMONICA IN BOX          5   \n",
       "525340  538168     22739  RIBBON REEL CHRISTMAS SOCK BAUBLE         5   \n",
       "\n",
       "               InvoiceDate  Price  Customer ID         Country  \n",
       "371    2009-12-01 11:34:00   3.75      16329.0  United Kingdom  \n",
       "383    2009-12-01 11:34:00   0.85      16329.0  United Kingdom  \n",
       "384    2009-12-01 11:34:00   0.65      16329.0  United Kingdom  \n",
       "385    2009-12-01 11:34:00   3.75      16329.0  United Kingdom  \n",
       "386    2009-12-01 11:34:00   3.75      16329.0  United Kingdom  \n",
       "...                    ...    ...          ...             ...  \n",
       "523258 2010-12-09 13:03:00   1.65      16065.0  United Kingdom  \n",
       "523356 2010-12-09 13:24:00   1.95      18041.0  United Kingdom  \n",
       "525170 2010-12-09 16:52:00   2.10      16907.0  United Kingdom  \n",
       "525293 2010-12-09 18:09:00   1.25      17965.0  United Kingdom  \n",
       "525340 2010-12-09 19:23:00   1.65      14702.0  United Kingdom  \n",
       "\n",
       "[6865 rows x 8 columns]"
      ]
     },
     "execution_count": 7,
     "metadata": {},
     "output_type": "execute_result"
    }
   ],
   "source": [
    "C_items[C_items.duplicated()] "
   ]
  },
  {
   "cell_type": "code",
   "execution_count": 8,
   "id": "f2783546",
   "metadata": {},
   "outputs": [
    {
     "data": {
      "text/html": [
       "<div>\n",
       "<style scoped>\n",
       "    .dataframe tbody tr th:only-of-type {\n",
       "        vertical-align: middle;\n",
       "    }\n",
       "\n",
       "    .dataframe tbody tr th {\n",
       "        vertical-align: top;\n",
       "    }\n",
       "\n",
       "    .dataframe thead th {\n",
       "        text-align: right;\n",
       "    }\n",
       "</style>\n",
       "<table border=\"1\" class=\"dataframe\">\n",
       "  <thead>\n",
       "    <tr style=\"text-align: right;\">\n",
       "      <th></th>\n",
       "      <th>Invoice</th>\n",
       "      <th>StockCode</th>\n",
       "      <th>Description</th>\n",
       "      <th>Quantity</th>\n",
       "      <th>InvoiceDate</th>\n",
       "      <th>Price</th>\n",
       "      <th>Customer ID</th>\n",
       "      <th>Country</th>\n",
       "    </tr>\n",
       "  </thead>\n",
       "  <tbody>\n",
       "    <tr>\n",
       "      <th>178</th>\n",
       "      <td>C489449</td>\n",
       "      <td>22087</td>\n",
       "      <td>PAPER BUNTING WHITE LACE</td>\n",
       "      <td>-12</td>\n",
       "      <td>2009-12-01 10:33:00</td>\n",
       "      <td>2.95</td>\n",
       "      <td>16321.0</td>\n",
       "      <td>Australia</td>\n",
       "    </tr>\n",
       "    <tr>\n",
       "      <th>179</th>\n",
       "      <td>C489449</td>\n",
       "      <td>85206A</td>\n",
       "      <td>CREAM FELT EASTER EGG BASKET</td>\n",
       "      <td>-6</td>\n",
       "      <td>2009-12-01 10:33:00</td>\n",
       "      <td>1.65</td>\n",
       "      <td>16321.0</td>\n",
       "      <td>Australia</td>\n",
       "    </tr>\n",
       "    <tr>\n",
       "      <th>180</th>\n",
       "      <td>C489449</td>\n",
       "      <td>21895</td>\n",
       "      <td>POTTING SHED SOW 'N' GROW SET</td>\n",
       "      <td>-4</td>\n",
       "      <td>2009-12-01 10:33:00</td>\n",
       "      <td>4.25</td>\n",
       "      <td>16321.0</td>\n",
       "      <td>Australia</td>\n",
       "    </tr>\n",
       "    <tr>\n",
       "      <th>181</th>\n",
       "      <td>C489449</td>\n",
       "      <td>21896</td>\n",
       "      <td>POTTING SHED TWINE</td>\n",
       "      <td>-6</td>\n",
       "      <td>2009-12-01 10:33:00</td>\n",
       "      <td>2.10</td>\n",
       "      <td>16321.0</td>\n",
       "      <td>Australia</td>\n",
       "    </tr>\n",
       "    <tr>\n",
       "      <th>182</th>\n",
       "      <td>C489449</td>\n",
       "      <td>22083</td>\n",
       "      <td>PAPER CHAIN KIT RETRO SPOT</td>\n",
       "      <td>-12</td>\n",
       "      <td>2009-12-01 10:33:00</td>\n",
       "      <td>2.95</td>\n",
       "      <td>16321.0</td>\n",
       "      <td>Australia</td>\n",
       "    </tr>\n",
       "  </tbody>\n",
       "</table>\n",
       "</div>"
      ],
      "text/plain": [
       "     Invoice StockCode                    Description  Quantity  \\\n",
       "178  C489449     22087       PAPER BUNTING WHITE LACE       -12   \n",
       "179  C489449    85206A   CREAM FELT EASTER EGG BASKET        -6   \n",
       "180  C489449     21895  POTTING SHED SOW 'N' GROW SET        -4   \n",
       "181  C489449     21896             POTTING SHED TWINE        -6   \n",
       "182  C489449     22083     PAPER CHAIN KIT RETRO SPOT       -12   \n",
       "\n",
       "            InvoiceDate  Price  Customer ID    Country  \n",
       "178 2009-12-01 10:33:00   2.95      16321.0  Australia  \n",
       "179 2009-12-01 10:33:00   1.65      16321.0  Australia  \n",
       "180 2009-12-01 10:33:00   4.25      16321.0  Australia  \n",
       "181 2009-12-01 10:33:00   2.10      16321.0  Australia  \n",
       "182 2009-12-01 10:33:00   2.95      16321.0  Australia  "
      ]
     },
     "execution_count": 8,
     "metadata": {},
     "output_type": "execute_result"
    }
   ],
   "source": [
    "C_items['Invoice'] = C_items['Invoice'].astype(str)\n",
    "df_refunded = C_items[C_items['Invoice'].str.contains('C')]\n",
    "\n",
    "df_refunded.head()"
   ]
  },
  {
   "cell_type": "code",
   "execution_count": 10,
   "id": "9846e270",
   "metadata": {},
   "outputs": [
    {
     "data": {
      "text/plain": [
       "(3687, 8)"
      ]
     },
     "execution_count": 10,
     "metadata": {},
     "output_type": "execute_result"
    }
   ],
   "source": [
    "# Analyze the products with a sale price of 0 and remove these records as well.\n",
    "# Boolean indexing\n",
    "df_ZeroPrice = C_items[C_items['Price'] == 0]\n",
    "df_ZeroPrice.shape"
   ]
  },
  {
   "cell_type": "code",
   "execution_count": 11,
   "id": "008d6e1d",
   "metadata": {},
   "outputs": [
    {
     "data": {
      "text/html": [
       "<div>\n",
       "<style scoped>\n",
       "    .dataframe tbody tr th:only-of-type {\n",
       "        vertical-align: middle;\n",
       "    }\n",
       "\n",
       "    .dataframe tbody tr th {\n",
       "        vertical-align: top;\n",
       "    }\n",
       "\n",
       "    .dataframe thead th {\n",
       "        text-align: right;\n",
       "    }\n",
       "</style>\n",
       "<table border=\"1\" class=\"dataframe\">\n",
       "  <thead>\n",
       "    <tr style=\"text-align: right;\">\n",
       "      <th></th>\n",
       "      <th>count</th>\n",
       "      <th>mean</th>\n",
       "      <th>min</th>\n",
       "      <th>25%</th>\n",
       "      <th>50%</th>\n",
       "      <th>75%</th>\n",
       "      <th>max</th>\n",
       "      <th>std</th>\n",
       "    </tr>\n",
       "  </thead>\n",
       "  <tbody>\n",
       "    <tr>\n",
       "      <th>Quantity</th>\n",
       "      <td>525461.0</td>\n",
       "      <td>10.337667</td>\n",
       "      <td>-9600.0</td>\n",
       "      <td>1.0</td>\n",
       "      <td>3.0</td>\n",
       "      <td>10.0</td>\n",
       "      <td>19152.0</td>\n",
       "      <td>107.42411</td>\n",
       "    </tr>\n",
       "    <tr>\n",
       "      <th>InvoiceDate</th>\n",
       "      <td>525461</td>\n",
       "      <td>2010-06-28 11:37:36.845017856</td>\n",
       "      <td>2009-12-01 07:45:00</td>\n",
       "      <td>2010-03-21 12:20:00</td>\n",
       "      <td>2010-07-06 09:51:00</td>\n",
       "      <td>2010-10-15 12:45:00</td>\n",
       "      <td>2010-12-09 20:01:00</td>\n",
       "      <td>NaN</td>\n",
       "    </tr>\n",
       "    <tr>\n",
       "      <th>Price</th>\n",
       "      <td>525461.0</td>\n",
       "      <td>4.688834</td>\n",
       "      <td>-53594.36</td>\n",
       "      <td>1.25</td>\n",
       "      <td>2.1</td>\n",
       "      <td>4.21</td>\n",
       "      <td>25111.09</td>\n",
       "      <td>146.126914</td>\n",
       "    </tr>\n",
       "    <tr>\n",
       "      <th>Customer ID</th>\n",
       "      <td>417534.0</td>\n",
       "      <td>15360.645478</td>\n",
       "      <td>12346.0</td>\n",
       "      <td>13983.0</td>\n",
       "      <td>15311.0</td>\n",
       "      <td>16799.0</td>\n",
       "      <td>18287.0</td>\n",
       "      <td>1680.811316</td>\n",
       "    </tr>\n",
       "  </tbody>\n",
       "</table>\n",
       "</div>"
      ],
      "text/plain": [
       "                count                           mean                  min  \\\n",
       "Quantity     525461.0                      10.337667              -9600.0   \n",
       "InvoiceDate    525461  2010-06-28 11:37:36.845017856  2009-12-01 07:45:00   \n",
       "Price        525461.0                       4.688834            -53594.36   \n",
       "Customer ID  417534.0                   15360.645478              12346.0   \n",
       "\n",
       "                             25%                  50%                  75%  \\\n",
       "Quantity                     1.0                  3.0                 10.0   \n",
       "InvoiceDate  2010-03-21 12:20:00  2010-07-06 09:51:00  2010-10-15 12:45:00   \n",
       "Price                       1.25                  2.1                 4.21   \n",
       "Customer ID              13983.0              15311.0              16799.0   \n",
       "\n",
       "                             max          std  \n",
       "Quantity                 19152.0    107.42411  \n",
       "InvoiceDate  2010-12-09 20:01:00          NaN  \n",
       "Price                   25111.09   146.126914  \n",
       "Customer ID              18287.0  1680.811316  "
      ]
     },
     "execution_count": 11,
     "metadata": {},
     "output_type": "execute_result"
    }
   ],
   "source": [
    "C_items.describe().T"
   ]
  },
  {
   "cell_type": "code",
   "execution_count": 12,
   "id": "3dacafc7",
   "metadata": {},
   "outputs": [],
   "source": [
    "# Dropping duplicated rows\n",
    "C_items.drop_duplicates(inplace=True)"
   ]
  },
  {
   "cell_type": "code",
   "execution_count": 13,
   "id": "d39dce5d",
   "metadata": {},
   "outputs": [],
   "source": [
    "#drop rows with missing CustomerID\n",
    "C_items.dropna(subset=['Customer ID'], inplace=True)"
   ]
  },
  {
   "cell_type": "code",
   "execution_count": 14,
   "id": "575172e0",
   "metadata": {},
   "outputs": [
    {
     "name": "stdout",
     "output_type": "stream",
     "text": [
      "Number of negative values in the 'Price' column: 0\n"
     ]
    }
   ],
   "source": [
    "negative_count = (C_items['Price'] < 0).sum()\n",
    "print(f\"Number of negative values in the 'Price' column: {negative_count}\")"
   ]
  },
  {
   "cell_type": "code",
   "execution_count": 15,
   "id": "f5de9f0d",
   "metadata": {},
   "outputs": [
    {
     "name": "stdout",
     "output_type": "stream",
     "text": [
      "Number of negative values in the 'Quantity' column: 9816\n"
     ]
    }
   ],
   "source": [
    "negative_count = (C_items['Quantity'] < 0).sum()\n",
    "print(f\"Number of negative values in the 'Quantity' column: {negative_count}\")"
   ]
  },
  {
   "cell_type": "code",
   "execution_count": 16,
   "id": "2bc0734a",
   "metadata": {},
   "outputs": [],
   "source": [
    "# Filter out rows with negative quantities\n",
    "df = C_items[C_items['Quantity'] >= 0]"
   ]
  },
  {
   "cell_type": "code",
   "execution_count": 17,
   "id": "e243b27b",
   "metadata": {},
   "outputs": [
    {
     "name": "stderr",
     "output_type": "stream",
     "text": [
      "C:\\Users\\Imart\\AppData\\Local\\Temp\\ipykernel_23020\\2920834757.py:1: SettingWithCopyWarning: \n",
      "A value is trying to be set on a copy of a slice from a DataFrame\n",
      "\n",
      "See the caveats in the documentation: https://pandas.pydata.org/pandas-docs/stable/user_guide/indexing.html#returning-a-view-versus-a-copy\n",
      "  df.drop(df[df['Price'] == 0.0].index, inplace=True)\n"
     ]
    }
   ],
   "source": [
    "df.drop(df[df['Price'] == 0.0].index, inplace=True)"
   ]
  },
  {
   "cell_type": "code",
   "execution_count": 18,
   "id": "89b23d6f",
   "metadata": {},
   "outputs": [
    {
     "data": {
      "text/plain": [
       "(400916, 8)"
      ]
     },
     "execution_count": 18,
     "metadata": {},
     "output_type": "execute_result"
    }
   ],
   "source": [
    "df.shape"
   ]
  },
  {
   "cell_type": "code",
   "execution_count": 19,
   "id": "6514f7a4",
   "metadata": {},
   "outputs": [
    {
     "data": {
      "text/html": [
       "<div>\n",
       "<style scoped>\n",
       "    .dataframe tbody tr th:only-of-type {\n",
       "        vertical-align: middle;\n",
       "    }\n",
       "\n",
       "    .dataframe tbody tr th {\n",
       "        vertical-align: top;\n",
       "    }\n",
       "\n",
       "    .dataframe thead th {\n",
       "        text-align: right;\n",
       "    }\n",
       "</style>\n",
       "<table border=\"1\" class=\"dataframe\">\n",
       "  <thead>\n",
       "    <tr style=\"text-align: right;\">\n",
       "      <th></th>\n",
       "      <th>count</th>\n",
       "      <th>mean</th>\n",
       "      <th>min</th>\n",
       "      <th>25%</th>\n",
       "      <th>50%</th>\n",
       "      <th>75%</th>\n",
       "      <th>max</th>\n",
       "      <th>std</th>\n",
       "    </tr>\n",
       "  </thead>\n",
       "  <tbody>\n",
       "    <tr>\n",
       "      <th>Quantity</th>\n",
       "      <td>400916.0</td>\n",
       "      <td>13.767418</td>\n",
       "      <td>1.0</td>\n",
       "      <td>2.0</td>\n",
       "      <td>5.0</td>\n",
       "      <td>12.0</td>\n",
       "      <td>19152.0</td>\n",
       "      <td>97.638385</td>\n",
       "    </tr>\n",
       "    <tr>\n",
       "      <th>InvoiceDate</th>\n",
       "      <td>400916</td>\n",
       "      <td>2010-07-01 05:01:16.167027712</td>\n",
       "      <td>2009-12-01 07:45:00</td>\n",
       "      <td>2010-03-26 13:28:00</td>\n",
       "      <td>2010-07-09 10:26:00</td>\n",
       "      <td>2010-10-14 13:58:45</td>\n",
       "      <td>2010-12-09 20:01:00</td>\n",
       "      <td>NaN</td>\n",
       "    </tr>\n",
       "    <tr>\n",
       "      <th>Price</th>\n",
       "      <td>400916.0</td>\n",
       "      <td>3.305826</td>\n",
       "      <td>0.001</td>\n",
       "      <td>1.25</td>\n",
       "      <td>1.95</td>\n",
       "      <td>3.75</td>\n",
       "      <td>10953.5</td>\n",
       "      <td>35.047719</td>\n",
       "    </tr>\n",
       "    <tr>\n",
       "      <th>Customer ID</th>\n",
       "      <td>400916.0</td>\n",
       "      <td>15361.544074</td>\n",
       "      <td>12346.0</td>\n",
       "      <td>13985.0</td>\n",
       "      <td>15311.0</td>\n",
       "      <td>16805.0</td>\n",
       "      <td>18287.0</td>\n",
       "      <td>1680.635823</td>\n",
       "    </tr>\n",
       "  </tbody>\n",
       "</table>\n",
       "</div>"
      ],
      "text/plain": [
       "                count                           mean                  min  \\\n",
       "Quantity     400916.0                      13.767418                  1.0   \n",
       "InvoiceDate    400916  2010-07-01 05:01:16.167027712  2009-12-01 07:45:00   \n",
       "Price        400916.0                       3.305826                0.001   \n",
       "Customer ID  400916.0                   15361.544074              12346.0   \n",
       "\n",
       "                             25%                  50%                  75%  \\\n",
       "Quantity                     2.0                  5.0                 12.0   \n",
       "InvoiceDate  2010-03-26 13:28:00  2010-07-09 10:26:00  2010-10-14 13:58:45   \n",
       "Price                       1.25                 1.95                 3.75   \n",
       "Customer ID              13985.0              15311.0              16805.0   \n",
       "\n",
       "                             max          std  \n",
       "Quantity                 19152.0    97.638385  \n",
       "InvoiceDate  2010-12-09 20:01:00          NaN  \n",
       "Price                    10953.5    35.047719  \n",
       "Customer ID              18287.0  1680.635823  "
      ]
     },
     "execution_count": 19,
     "metadata": {},
     "output_type": "execute_result"
    }
   ],
   "source": [
    "df.describe().T"
   ]
  },
  {
   "cell_type": "code",
   "execution_count": 20,
   "id": "9a8d33b9",
   "metadata": {},
   "outputs": [
    {
     "data": {
      "text/plain": [
       "Invoice             0\n",
       "StockCode           0\n",
       "Description      1454\n",
       "Quantity            0\n",
       "InvoiceDate         0\n",
       "Price               0\n",
       "Customer ID    135080\n",
       "Country             0\n",
       "dtype: int64"
      ]
     },
     "execution_count": 20,
     "metadata": {},
     "output_type": "execute_result"
    }
   ],
   "source": [
    "# Check for missing values in each column\n",
    "C_items1.isnull().sum()"
   ]
  },
  {
   "cell_type": "code",
   "execution_count": 21,
   "id": "895f3db7",
   "metadata": {},
   "outputs": [
    {
     "data": {
      "text/html": [
       "<div>\n",
       "<style scoped>\n",
       "    .dataframe tbody tr th:only-of-type {\n",
       "        vertical-align: middle;\n",
       "    }\n",
       "\n",
       "    .dataframe tbody tr th {\n",
       "        vertical-align: top;\n",
       "    }\n",
       "\n",
       "    .dataframe thead th {\n",
       "        text-align: right;\n",
       "    }\n",
       "</style>\n",
       "<table border=\"1\" class=\"dataframe\">\n",
       "  <thead>\n",
       "    <tr style=\"text-align: right;\">\n",
       "      <th></th>\n",
       "      <th>Invoice</th>\n",
       "      <th>StockCode</th>\n",
       "      <th>Description</th>\n",
       "      <th>Quantity</th>\n",
       "      <th>InvoiceDate</th>\n",
       "      <th>Price</th>\n",
       "      <th>Customer ID</th>\n",
       "      <th>Country</th>\n",
       "    </tr>\n",
       "  </thead>\n",
       "  <tbody>\n",
       "    <tr>\n",
       "      <th>517</th>\n",
       "      <td>536409</td>\n",
       "      <td>21866</td>\n",
       "      <td>UNION JACK FLAG LUGGAGE TAG</td>\n",
       "      <td>1</td>\n",
       "      <td>2010-12-01 11:45:00</td>\n",
       "      <td>1.25</td>\n",
       "      <td>17908.0</td>\n",
       "      <td>United Kingdom</td>\n",
       "    </tr>\n",
       "    <tr>\n",
       "      <th>527</th>\n",
       "      <td>536409</td>\n",
       "      <td>22866</td>\n",
       "      <td>HAND WARMER SCOTTY DOG DESIGN</td>\n",
       "      <td>1</td>\n",
       "      <td>2010-12-01 11:45:00</td>\n",
       "      <td>2.10</td>\n",
       "      <td>17908.0</td>\n",
       "      <td>United Kingdom</td>\n",
       "    </tr>\n",
       "    <tr>\n",
       "      <th>537</th>\n",
       "      <td>536409</td>\n",
       "      <td>22900</td>\n",
       "      <td>SET 2 TEA TOWELS I LOVE LONDON</td>\n",
       "      <td>1</td>\n",
       "      <td>2010-12-01 11:45:00</td>\n",
       "      <td>2.95</td>\n",
       "      <td>17908.0</td>\n",
       "      <td>United Kingdom</td>\n",
       "    </tr>\n",
       "    <tr>\n",
       "      <th>539</th>\n",
       "      <td>536409</td>\n",
       "      <td>22111</td>\n",
       "      <td>SCOTTIE DOG HOT WATER BOTTLE</td>\n",
       "      <td>1</td>\n",
       "      <td>2010-12-01 11:45:00</td>\n",
       "      <td>4.95</td>\n",
       "      <td>17908.0</td>\n",
       "      <td>United Kingdom</td>\n",
       "    </tr>\n",
       "    <tr>\n",
       "      <th>555</th>\n",
       "      <td>536412</td>\n",
       "      <td>22327</td>\n",
       "      <td>ROUND SNACK BOXES SET OF 4 SKULLS</td>\n",
       "      <td>1</td>\n",
       "      <td>2010-12-01 11:49:00</td>\n",
       "      <td>2.95</td>\n",
       "      <td>17920.0</td>\n",
       "      <td>United Kingdom</td>\n",
       "    </tr>\n",
       "    <tr>\n",
       "      <th>...</th>\n",
       "      <td>...</td>\n",
       "      <td>...</td>\n",
       "      <td>...</td>\n",
       "      <td>...</td>\n",
       "      <td>...</td>\n",
       "      <td>...</td>\n",
       "      <td>...</td>\n",
       "      <td>...</td>\n",
       "    </tr>\n",
       "    <tr>\n",
       "      <th>541675</th>\n",
       "      <td>581538</td>\n",
       "      <td>22068</td>\n",
       "      <td>BLACK PIRATE TREASURE CHEST</td>\n",
       "      <td>1</td>\n",
       "      <td>2011-12-09 11:34:00</td>\n",
       "      <td>0.39</td>\n",
       "      <td>14446.0</td>\n",
       "      <td>United Kingdom</td>\n",
       "    </tr>\n",
       "    <tr>\n",
       "      <th>541689</th>\n",
       "      <td>581538</td>\n",
       "      <td>23318</td>\n",
       "      <td>BOX OF 6 MINI VINTAGE CRACKERS</td>\n",
       "      <td>1</td>\n",
       "      <td>2011-12-09 11:34:00</td>\n",
       "      <td>2.49</td>\n",
       "      <td>14446.0</td>\n",
       "      <td>United Kingdom</td>\n",
       "    </tr>\n",
       "    <tr>\n",
       "      <th>541692</th>\n",
       "      <td>581538</td>\n",
       "      <td>22992</td>\n",
       "      <td>REVOLVER WOODEN RULER</td>\n",
       "      <td>1</td>\n",
       "      <td>2011-12-09 11:34:00</td>\n",
       "      <td>1.95</td>\n",
       "      <td>14446.0</td>\n",
       "      <td>United Kingdom</td>\n",
       "    </tr>\n",
       "    <tr>\n",
       "      <th>541699</th>\n",
       "      <td>581538</td>\n",
       "      <td>22694</td>\n",
       "      <td>WICKER STAR</td>\n",
       "      <td>1</td>\n",
       "      <td>2011-12-09 11:34:00</td>\n",
       "      <td>2.10</td>\n",
       "      <td>14446.0</td>\n",
       "      <td>United Kingdom</td>\n",
       "    </tr>\n",
       "    <tr>\n",
       "      <th>541701</th>\n",
       "      <td>581538</td>\n",
       "      <td>23343</td>\n",
       "      <td>JUMBO BAG VINTAGE CHRISTMAS</td>\n",
       "      <td>1</td>\n",
       "      <td>2011-12-09 11:34:00</td>\n",
       "      <td>2.08</td>\n",
       "      <td>14446.0</td>\n",
       "      <td>United Kingdom</td>\n",
       "    </tr>\n",
       "  </tbody>\n",
       "</table>\n",
       "<p>5268 rows × 8 columns</p>\n",
       "</div>"
      ],
      "text/plain": [
       "       Invoice StockCode                        Description  Quantity  \\\n",
       "517     536409     21866        UNION JACK FLAG LUGGAGE TAG         1   \n",
       "527     536409     22866      HAND WARMER SCOTTY DOG DESIGN         1   \n",
       "537     536409     22900    SET 2 TEA TOWELS I LOVE LONDON          1   \n",
       "539     536409     22111       SCOTTIE DOG HOT WATER BOTTLE         1   \n",
       "555     536412     22327  ROUND SNACK BOXES SET OF 4 SKULLS         1   \n",
       "...        ...       ...                                ...       ...   \n",
       "541675  581538     22068        BLACK PIRATE TREASURE CHEST         1   \n",
       "541689  581538     23318     BOX OF 6 MINI VINTAGE CRACKERS         1   \n",
       "541692  581538     22992             REVOLVER WOODEN RULER          1   \n",
       "541699  581538     22694                       WICKER STAR          1   \n",
       "541701  581538     23343       JUMBO BAG VINTAGE CHRISTMAS          1   \n",
       "\n",
       "               InvoiceDate  Price  Customer ID         Country  \n",
       "517    2010-12-01 11:45:00   1.25      17908.0  United Kingdom  \n",
       "527    2010-12-01 11:45:00   2.10      17908.0  United Kingdom  \n",
       "537    2010-12-01 11:45:00   2.95      17908.0  United Kingdom  \n",
       "539    2010-12-01 11:45:00   4.95      17908.0  United Kingdom  \n",
       "555    2010-12-01 11:49:00   2.95      17920.0  United Kingdom  \n",
       "...                    ...    ...          ...             ...  \n",
       "541675 2011-12-09 11:34:00   0.39      14446.0  United Kingdom  \n",
       "541689 2011-12-09 11:34:00   2.49      14446.0  United Kingdom  \n",
       "541692 2011-12-09 11:34:00   1.95      14446.0  United Kingdom  \n",
       "541699 2011-12-09 11:34:00   2.10      14446.0  United Kingdom  \n",
       "541701 2011-12-09 11:34:00   2.08      14446.0  United Kingdom  \n",
       "\n",
       "[5268 rows x 8 columns]"
      ]
     },
     "execution_count": 21,
     "metadata": {},
     "output_type": "execute_result"
    }
   ],
   "source": [
    "C_items1[C_items1.duplicated()] "
   ]
  },
  {
   "cell_type": "code",
   "execution_count": 22,
   "id": "3d5b30c7",
   "metadata": {},
   "outputs": [
    {
     "data": {
      "text/html": [
       "<div>\n",
       "<style scoped>\n",
       "    .dataframe tbody tr th:only-of-type {\n",
       "        vertical-align: middle;\n",
       "    }\n",
       "\n",
       "    .dataframe tbody tr th {\n",
       "        vertical-align: top;\n",
       "    }\n",
       "\n",
       "    .dataframe thead th {\n",
       "        text-align: right;\n",
       "    }\n",
       "</style>\n",
       "<table border=\"1\" class=\"dataframe\">\n",
       "  <thead>\n",
       "    <tr style=\"text-align: right;\">\n",
       "      <th></th>\n",
       "      <th>Invoice</th>\n",
       "      <th>StockCode</th>\n",
       "      <th>Description</th>\n",
       "      <th>Quantity</th>\n",
       "      <th>InvoiceDate</th>\n",
       "      <th>Price</th>\n",
       "      <th>Customer ID</th>\n",
       "      <th>Country</th>\n",
       "    </tr>\n",
       "  </thead>\n",
       "  <tbody>\n",
       "    <tr>\n",
       "      <th>141</th>\n",
       "      <td>C536379</td>\n",
       "      <td>D</td>\n",
       "      <td>Discount</td>\n",
       "      <td>-1</td>\n",
       "      <td>2010-12-01 09:41:00</td>\n",
       "      <td>27.50</td>\n",
       "      <td>14527.0</td>\n",
       "      <td>United Kingdom</td>\n",
       "    </tr>\n",
       "    <tr>\n",
       "      <th>154</th>\n",
       "      <td>C536383</td>\n",
       "      <td>35004C</td>\n",
       "      <td>SET OF 3 COLOURED  FLYING DUCKS</td>\n",
       "      <td>-1</td>\n",
       "      <td>2010-12-01 09:49:00</td>\n",
       "      <td>4.65</td>\n",
       "      <td>15311.0</td>\n",
       "      <td>United Kingdom</td>\n",
       "    </tr>\n",
       "    <tr>\n",
       "      <th>235</th>\n",
       "      <td>C536391</td>\n",
       "      <td>22556</td>\n",
       "      <td>PLASTERS IN TIN CIRCUS PARADE</td>\n",
       "      <td>-12</td>\n",
       "      <td>2010-12-01 10:24:00</td>\n",
       "      <td>1.65</td>\n",
       "      <td>17548.0</td>\n",
       "      <td>United Kingdom</td>\n",
       "    </tr>\n",
       "    <tr>\n",
       "      <th>236</th>\n",
       "      <td>C536391</td>\n",
       "      <td>21984</td>\n",
       "      <td>PACK OF 12 PINK PAISLEY TISSUES</td>\n",
       "      <td>-24</td>\n",
       "      <td>2010-12-01 10:24:00</td>\n",
       "      <td>0.29</td>\n",
       "      <td>17548.0</td>\n",
       "      <td>United Kingdom</td>\n",
       "    </tr>\n",
       "    <tr>\n",
       "      <th>237</th>\n",
       "      <td>C536391</td>\n",
       "      <td>21983</td>\n",
       "      <td>PACK OF 12 BLUE PAISLEY TISSUES</td>\n",
       "      <td>-24</td>\n",
       "      <td>2010-12-01 10:24:00</td>\n",
       "      <td>0.29</td>\n",
       "      <td>17548.0</td>\n",
       "      <td>United Kingdom</td>\n",
       "    </tr>\n",
       "  </tbody>\n",
       "</table>\n",
       "</div>"
      ],
      "text/plain": [
       "     Invoice StockCode                       Description  Quantity  \\\n",
       "141  C536379         D                          Discount        -1   \n",
       "154  C536383    35004C   SET OF 3 COLOURED  FLYING DUCKS        -1   \n",
       "235  C536391     22556    PLASTERS IN TIN CIRCUS PARADE        -12   \n",
       "236  C536391     21984  PACK OF 12 PINK PAISLEY TISSUES        -24   \n",
       "237  C536391     21983  PACK OF 12 BLUE PAISLEY TISSUES        -24   \n",
       "\n",
       "            InvoiceDate  Price  Customer ID         Country  \n",
       "141 2010-12-01 09:41:00  27.50      14527.0  United Kingdom  \n",
       "154 2010-12-01 09:49:00   4.65      15311.0  United Kingdom  \n",
       "235 2010-12-01 10:24:00   1.65      17548.0  United Kingdom  \n",
       "236 2010-12-01 10:24:00   0.29      17548.0  United Kingdom  \n",
       "237 2010-12-01 10:24:00   0.29      17548.0  United Kingdom  "
      ]
     },
     "execution_count": 22,
     "metadata": {},
     "output_type": "execute_result"
    }
   ],
   "source": [
    "C_items1['Invoice'] = C_items1['Invoice'].astype(str)\n",
    "df_refunded = C_items1[C_items1['Invoice'].str.contains('C')]\n",
    "\n",
    "df_refunded.head()"
   ]
  },
  {
   "cell_type": "code",
   "execution_count": 23,
   "id": "339a1c3e",
   "metadata": {},
   "outputs": [
    {
     "data": {
      "text/plain": [
       "(2515, 8)"
      ]
     },
     "execution_count": 23,
     "metadata": {},
     "output_type": "execute_result"
    }
   ],
   "source": [
    "# Analyze the products with a sale price of 0 and remove these records as well.\n",
    "# Boolean indexing\n",
    "df_ZeroPrice = C_items1[C_items1['Price'] == 0]\n",
    "df_ZeroPrice.shape"
   ]
  },
  {
   "cell_type": "code",
   "execution_count": 24,
   "id": "7c500250",
   "metadata": {},
   "outputs": [
    {
     "data": {
      "text/html": [
       "<div>\n",
       "<style scoped>\n",
       "    .dataframe tbody tr th:only-of-type {\n",
       "        vertical-align: middle;\n",
       "    }\n",
       "\n",
       "    .dataframe tbody tr th {\n",
       "        vertical-align: top;\n",
       "    }\n",
       "\n",
       "    .dataframe thead th {\n",
       "        text-align: right;\n",
       "    }\n",
       "</style>\n",
       "<table border=\"1\" class=\"dataframe\">\n",
       "  <thead>\n",
       "    <tr style=\"text-align: right;\">\n",
       "      <th></th>\n",
       "      <th>count</th>\n",
       "      <th>mean</th>\n",
       "      <th>min</th>\n",
       "      <th>25%</th>\n",
       "      <th>50%</th>\n",
       "      <th>75%</th>\n",
       "      <th>max</th>\n",
       "      <th>std</th>\n",
       "    </tr>\n",
       "  </thead>\n",
       "  <tbody>\n",
       "    <tr>\n",
       "      <th>Quantity</th>\n",
       "      <td>541910.0</td>\n",
       "      <td>9.552234</td>\n",
       "      <td>-80995.0</td>\n",
       "      <td>1.0</td>\n",
       "      <td>3.0</td>\n",
       "      <td>10.0</td>\n",
       "      <td>80995.0</td>\n",
       "      <td>218.080957</td>\n",
       "    </tr>\n",
       "    <tr>\n",
       "      <th>InvoiceDate</th>\n",
       "      <td>541910</td>\n",
       "      <td>2011-07-04 13:35:22.342307584</td>\n",
       "      <td>2010-12-01 08:26:00</td>\n",
       "      <td>2011-03-28 11:34:00</td>\n",
       "      <td>2011-07-19 17:17:00</td>\n",
       "      <td>2011-10-19 11:27:00</td>\n",
       "      <td>2011-12-09 12:50:00</td>\n",
       "      <td>NaN</td>\n",
       "    </tr>\n",
       "    <tr>\n",
       "      <th>Price</th>\n",
       "      <td>541910.0</td>\n",
       "      <td>4.611138</td>\n",
       "      <td>-11062.06</td>\n",
       "      <td>1.25</td>\n",
       "      <td>2.08</td>\n",
       "      <td>4.13</td>\n",
       "      <td>38970.0</td>\n",
       "      <td>96.759765</td>\n",
       "    </tr>\n",
       "    <tr>\n",
       "      <th>Customer ID</th>\n",
       "      <td>406830.0</td>\n",
       "      <td>15287.68416</td>\n",
       "      <td>12346.0</td>\n",
       "      <td>13953.0</td>\n",
       "      <td>15152.0</td>\n",
       "      <td>16791.0</td>\n",
       "      <td>18287.0</td>\n",
       "      <td>1713.603074</td>\n",
       "    </tr>\n",
       "  </tbody>\n",
       "</table>\n",
       "</div>"
      ],
      "text/plain": [
       "                count                           mean                  min  \\\n",
       "Quantity     541910.0                       9.552234             -80995.0   \n",
       "InvoiceDate    541910  2011-07-04 13:35:22.342307584  2010-12-01 08:26:00   \n",
       "Price        541910.0                       4.611138            -11062.06   \n",
       "Customer ID  406830.0                    15287.68416              12346.0   \n",
       "\n",
       "                             25%                  50%                  75%  \\\n",
       "Quantity                     1.0                  3.0                 10.0   \n",
       "InvoiceDate  2011-03-28 11:34:00  2011-07-19 17:17:00  2011-10-19 11:27:00   \n",
       "Price                       1.25                 2.08                 4.13   \n",
       "Customer ID              13953.0              15152.0              16791.0   \n",
       "\n",
       "                             max          std  \n",
       "Quantity                 80995.0   218.080957  \n",
       "InvoiceDate  2011-12-09 12:50:00          NaN  \n",
       "Price                    38970.0    96.759765  \n",
       "Customer ID              18287.0  1713.603074  "
      ]
     },
     "execution_count": 24,
     "metadata": {},
     "output_type": "execute_result"
    }
   ],
   "source": [
    "C_items1.describe().T"
   ]
  },
  {
   "cell_type": "code",
   "execution_count": 25,
   "id": "9d5899e8",
   "metadata": {},
   "outputs": [],
   "source": [
    "# Dropping duplicated rows\n",
    "C_items1.drop_duplicates(inplace=True)"
   ]
  },
  {
   "cell_type": "code",
   "execution_count": 26,
   "id": "070d3930",
   "metadata": {},
   "outputs": [],
   "source": [
    "#drop rows with missing CustomerID\n",
    "C_items1.dropna(subset=['Customer ID'], inplace=True)"
   ]
  },
  {
   "cell_type": "code",
   "execution_count": 27,
   "id": "ccae3279",
   "metadata": {},
   "outputs": [
    {
     "name": "stdout",
     "output_type": "stream",
     "text": [
      "Number of negative values in the 'Price' column: 0\n"
     ]
    }
   ],
   "source": [
    "negative_count = (C_items1['Price'] < 0).sum()\n",
    "print(f\"Number of negative values in the 'Price' column: {negative_count}\")"
   ]
  },
  {
   "cell_type": "code",
   "execution_count": 28,
   "id": "1220c78f",
   "metadata": {},
   "outputs": [
    {
     "name": "stdout",
     "output_type": "stream",
     "text": [
      "Number of negative values in the 'Quantity' column: 8872\n"
     ]
    }
   ],
   "source": [
    "negative_count = (C_items1['Quantity'] < 0).sum()\n",
    "print(f\"Number of negative values in the 'Quantity' column: {negative_count}\")"
   ]
  },
  {
   "cell_type": "code",
   "execution_count": 29,
   "id": "bd60f08e",
   "metadata": {},
   "outputs": [],
   "source": [
    "# Filter out rows with negative quantities\n",
    "df1 = C_items1[C_items1['Quantity'] >= 0]"
   ]
  },
  {
   "cell_type": "code",
   "execution_count": 30,
   "id": "a2343f99",
   "metadata": {},
   "outputs": [
    {
     "name": "stderr",
     "output_type": "stream",
     "text": [
      "C:\\Users\\Imart\\AppData\\Local\\Temp\\ipykernel_23020\\35251706.py:1: SettingWithCopyWarning: \n",
      "A value is trying to be set on a copy of a slice from a DataFrame\n",
      "\n",
      "See the caveats in the documentation: https://pandas.pydata.org/pandas-docs/stable/user_guide/indexing.html#returning-a-view-versus-a-copy\n",
      "  df1.drop(df1[df1['Price'] == 0.0].index, inplace=True)\n"
     ]
    }
   ],
   "source": [
    "df1.drop(df1[df1['Price'] == 0.0].index, inplace=True)"
   ]
  },
  {
   "cell_type": "code",
   "execution_count": 31,
   "id": "6aafde7d",
   "metadata": {},
   "outputs": [
    {
     "data": {
      "text/plain": [
       "(392693, 8)"
      ]
     },
     "execution_count": 31,
     "metadata": {},
     "output_type": "execute_result"
    }
   ],
   "source": [
    "df1.shape"
   ]
  },
  {
   "cell_type": "code",
   "execution_count": 32,
   "id": "a781ad7b",
   "metadata": {},
   "outputs": [
    {
     "data": {
      "text/html": [
       "<div>\n",
       "<style scoped>\n",
       "    .dataframe tbody tr th:only-of-type {\n",
       "        vertical-align: middle;\n",
       "    }\n",
       "\n",
       "    .dataframe tbody tr th {\n",
       "        vertical-align: top;\n",
       "    }\n",
       "\n",
       "    .dataframe thead th {\n",
       "        text-align: right;\n",
       "    }\n",
       "</style>\n",
       "<table border=\"1\" class=\"dataframe\">\n",
       "  <thead>\n",
       "    <tr style=\"text-align: right;\">\n",
       "      <th></th>\n",
       "      <th>count</th>\n",
       "      <th>mean</th>\n",
       "      <th>min</th>\n",
       "      <th>25%</th>\n",
       "      <th>50%</th>\n",
       "      <th>75%</th>\n",
       "      <th>max</th>\n",
       "      <th>std</th>\n",
       "    </tr>\n",
       "  </thead>\n",
       "  <tbody>\n",
       "    <tr>\n",
       "      <th>Quantity</th>\n",
       "      <td>392693.0</td>\n",
       "      <td>13.119671</td>\n",
       "      <td>1.0</td>\n",
       "      <td>2.0</td>\n",
       "      <td>6.0</td>\n",
       "      <td>12.0</td>\n",
       "      <td>80995.0</td>\n",
       "      <td>180.492603</td>\n",
       "    </tr>\n",
       "    <tr>\n",
       "      <th>InvoiceDate</th>\n",
       "      <td>392693</td>\n",
       "      <td>2011-07-10 19:13:41.156272128</td>\n",
       "      <td>2010-12-01 08:26:00</td>\n",
       "      <td>2011-04-07 11:12:00</td>\n",
       "      <td>2011-07-31 12:02:00</td>\n",
       "      <td>2011-10-20 12:53:00</td>\n",
       "      <td>2011-12-09 12:50:00</td>\n",
       "      <td>NaN</td>\n",
       "    </tr>\n",
       "    <tr>\n",
       "      <th>Price</th>\n",
       "      <td>392693.0</td>\n",
       "      <td>3.125952</td>\n",
       "      <td>0.001</td>\n",
       "      <td>1.25</td>\n",
       "      <td>1.95</td>\n",
       "      <td>3.75</td>\n",
       "      <td>8142.75</td>\n",
       "      <td>22.24182</td>\n",
       "    </tr>\n",
       "    <tr>\n",
       "      <th>Customer ID</th>\n",
       "      <td>392693.0</td>\n",
       "      <td>15287.837224</td>\n",
       "      <td>12346.0</td>\n",
       "      <td>13955.0</td>\n",
       "      <td>15150.0</td>\n",
       "      <td>16791.0</td>\n",
       "      <td>18287.0</td>\n",
       "      <td>1713.542421</td>\n",
       "    </tr>\n",
       "  </tbody>\n",
       "</table>\n",
       "</div>"
      ],
      "text/plain": [
       "                count                           mean                  min  \\\n",
       "Quantity     392693.0                      13.119671                  1.0   \n",
       "InvoiceDate    392693  2011-07-10 19:13:41.156272128  2010-12-01 08:26:00   \n",
       "Price        392693.0                       3.125952                0.001   \n",
       "Customer ID  392693.0                   15287.837224              12346.0   \n",
       "\n",
       "                             25%                  50%                  75%  \\\n",
       "Quantity                     2.0                  6.0                 12.0   \n",
       "InvoiceDate  2011-04-07 11:12:00  2011-07-31 12:02:00  2011-10-20 12:53:00   \n",
       "Price                       1.25                 1.95                 3.75   \n",
       "Customer ID              13955.0              15150.0              16791.0   \n",
       "\n",
       "                             max          std  \n",
       "Quantity                 80995.0   180.492603  \n",
       "InvoiceDate  2011-12-09 12:50:00          NaN  \n",
       "Price                    8142.75     22.24182  \n",
       "Customer ID              18287.0  1713.542421  "
      ]
     },
     "execution_count": 32,
     "metadata": {},
     "output_type": "execute_result"
    }
   ],
   "source": [
    "df1.describe().T"
   ]
  },
  {
   "cell_type": "code",
   "execution_count": 33,
   "id": "5ee0325b",
   "metadata": {},
   "outputs": [
    {
     "data": {
      "text/html": [
       "<div>\n",
       "<style scoped>\n",
       "    .dataframe tbody tr th:only-of-type {\n",
       "        vertical-align: middle;\n",
       "    }\n",
       "\n",
       "    .dataframe tbody tr th {\n",
       "        vertical-align: top;\n",
       "    }\n",
       "\n",
       "    .dataframe thead th {\n",
       "        text-align: right;\n",
       "    }\n",
       "</style>\n",
       "<table border=\"1\" class=\"dataframe\">\n",
       "  <thead>\n",
       "    <tr style=\"text-align: right;\">\n",
       "      <th></th>\n",
       "      <th>Invoice</th>\n",
       "      <th>StockCode</th>\n",
       "      <th>Description</th>\n",
       "      <th>Quantity</th>\n",
       "      <th>InvoiceDate</th>\n",
       "      <th>Price</th>\n",
       "      <th>Customer ID</th>\n",
       "      <th>Country</th>\n",
       "    </tr>\n",
       "  </thead>\n",
       "  <tbody>\n",
       "    <tr>\n",
       "      <th>0</th>\n",
       "      <td>489434</td>\n",
       "      <td>85048</td>\n",
       "      <td>15CM CHRISTMAS GLASS BALL 20 LIGHTS</td>\n",
       "      <td>12</td>\n",
       "      <td>2009-12-01 07:45:00</td>\n",
       "      <td>6.95</td>\n",
       "      <td>13085.0</td>\n",
       "      <td>United Kingdom</td>\n",
       "    </tr>\n",
       "    <tr>\n",
       "      <th>1</th>\n",
       "      <td>489434</td>\n",
       "      <td>79323P</td>\n",
       "      <td>PINK CHERRY LIGHTS</td>\n",
       "      <td>12</td>\n",
       "      <td>2009-12-01 07:45:00</td>\n",
       "      <td>6.75</td>\n",
       "      <td>13085.0</td>\n",
       "      <td>United Kingdom</td>\n",
       "    </tr>\n",
       "    <tr>\n",
       "      <th>2</th>\n",
       "      <td>489434</td>\n",
       "      <td>79323W</td>\n",
       "      <td>WHITE CHERRY LIGHTS</td>\n",
       "      <td>12</td>\n",
       "      <td>2009-12-01 07:45:00</td>\n",
       "      <td>6.75</td>\n",
       "      <td>13085.0</td>\n",
       "      <td>United Kingdom</td>\n",
       "    </tr>\n",
       "    <tr>\n",
       "      <th>3</th>\n",
       "      <td>489434</td>\n",
       "      <td>22041</td>\n",
       "      <td>RECORD FRAME 7\" SINGLE SIZE</td>\n",
       "      <td>48</td>\n",
       "      <td>2009-12-01 07:45:00</td>\n",
       "      <td>2.10</td>\n",
       "      <td>13085.0</td>\n",
       "      <td>United Kingdom</td>\n",
       "    </tr>\n",
       "    <tr>\n",
       "      <th>4</th>\n",
       "      <td>489434</td>\n",
       "      <td>21232</td>\n",
       "      <td>STRAWBERRY CERAMIC TRINKET BOX</td>\n",
       "      <td>24</td>\n",
       "      <td>2009-12-01 07:45:00</td>\n",
       "      <td>1.25</td>\n",
       "      <td>13085.0</td>\n",
       "      <td>United Kingdom</td>\n",
       "    </tr>\n",
       "  </tbody>\n",
       "</table>\n",
       "</div>"
      ],
      "text/plain": [
       "  Invoice StockCode                          Description  Quantity  \\\n",
       "0  489434     85048  15CM CHRISTMAS GLASS BALL 20 LIGHTS        12   \n",
       "1  489434    79323P                   PINK CHERRY LIGHTS        12   \n",
       "2  489434    79323W                  WHITE CHERRY LIGHTS        12   \n",
       "3  489434     22041         RECORD FRAME 7\" SINGLE SIZE         48   \n",
       "4  489434     21232       STRAWBERRY CERAMIC TRINKET BOX        24   \n",
       "\n",
       "          InvoiceDate  Price  Customer ID         Country  \n",
       "0 2009-12-01 07:45:00   6.95      13085.0  United Kingdom  \n",
       "1 2009-12-01 07:45:00   6.75      13085.0  United Kingdom  \n",
       "2 2009-12-01 07:45:00   6.75      13085.0  United Kingdom  \n",
       "3 2009-12-01 07:45:00   2.10      13085.0  United Kingdom  \n",
       "4 2009-12-01 07:45:00   1.25      13085.0  United Kingdom  "
      ]
     },
     "execution_count": 33,
     "metadata": {},
     "output_type": "execute_result"
    }
   ],
   "source": [
    "df.head()"
   ]
  },
  {
   "cell_type": "code",
   "execution_count": 34,
   "id": "e6a215b8",
   "metadata": {},
   "outputs": [
    {
     "data": {
      "text/html": [
       "<div>\n",
       "<style scoped>\n",
       "    .dataframe tbody tr th:only-of-type {\n",
       "        vertical-align: middle;\n",
       "    }\n",
       "\n",
       "    .dataframe tbody tr th {\n",
       "        vertical-align: top;\n",
       "    }\n",
       "\n",
       "    .dataframe thead th {\n",
       "        text-align: right;\n",
       "    }\n",
       "</style>\n",
       "<table border=\"1\" class=\"dataframe\">\n",
       "  <thead>\n",
       "    <tr style=\"text-align: right;\">\n",
       "      <th></th>\n",
       "      <th>Invoice</th>\n",
       "      <th>StockCode</th>\n",
       "      <th>Description</th>\n",
       "      <th>Quantity</th>\n",
       "      <th>InvoiceDate</th>\n",
       "      <th>Price</th>\n",
       "      <th>Customer ID</th>\n",
       "      <th>Country</th>\n",
       "    </tr>\n",
       "  </thead>\n",
       "  <tbody>\n",
       "    <tr>\n",
       "      <th>0</th>\n",
       "      <td>536365</td>\n",
       "      <td>85123A</td>\n",
       "      <td>WHITE HANGING HEART T-LIGHT HOLDER</td>\n",
       "      <td>6</td>\n",
       "      <td>2010-12-01 08:26:00</td>\n",
       "      <td>2.55</td>\n",
       "      <td>17850.0</td>\n",
       "      <td>United Kingdom</td>\n",
       "    </tr>\n",
       "    <tr>\n",
       "      <th>1</th>\n",
       "      <td>536365</td>\n",
       "      <td>71053</td>\n",
       "      <td>WHITE METAL LANTERN</td>\n",
       "      <td>6</td>\n",
       "      <td>2010-12-01 08:26:00</td>\n",
       "      <td>3.39</td>\n",
       "      <td>17850.0</td>\n",
       "      <td>United Kingdom</td>\n",
       "    </tr>\n",
       "    <tr>\n",
       "      <th>2</th>\n",
       "      <td>536365</td>\n",
       "      <td>84406B</td>\n",
       "      <td>CREAM CUPID HEARTS COAT HANGER</td>\n",
       "      <td>8</td>\n",
       "      <td>2010-12-01 08:26:00</td>\n",
       "      <td>2.75</td>\n",
       "      <td>17850.0</td>\n",
       "      <td>United Kingdom</td>\n",
       "    </tr>\n",
       "    <tr>\n",
       "      <th>3</th>\n",
       "      <td>536365</td>\n",
       "      <td>84029G</td>\n",
       "      <td>KNITTED UNION FLAG HOT WATER BOTTLE</td>\n",
       "      <td>6</td>\n",
       "      <td>2010-12-01 08:26:00</td>\n",
       "      <td>3.39</td>\n",
       "      <td>17850.0</td>\n",
       "      <td>United Kingdom</td>\n",
       "    </tr>\n",
       "    <tr>\n",
       "      <th>4</th>\n",
       "      <td>536365</td>\n",
       "      <td>84029E</td>\n",
       "      <td>RED WOOLLY HOTTIE WHITE HEART.</td>\n",
       "      <td>6</td>\n",
       "      <td>2010-12-01 08:26:00</td>\n",
       "      <td>3.39</td>\n",
       "      <td>17850.0</td>\n",
       "      <td>United Kingdom</td>\n",
       "    </tr>\n",
       "  </tbody>\n",
       "</table>\n",
       "</div>"
      ],
      "text/plain": [
       "  Invoice StockCode                          Description  Quantity  \\\n",
       "0  536365    85123A   WHITE HANGING HEART T-LIGHT HOLDER         6   \n",
       "1  536365     71053                  WHITE METAL LANTERN         6   \n",
       "2  536365    84406B       CREAM CUPID HEARTS COAT HANGER         8   \n",
       "3  536365    84029G  KNITTED UNION FLAG HOT WATER BOTTLE         6   \n",
       "4  536365    84029E       RED WOOLLY HOTTIE WHITE HEART.         6   \n",
       "\n",
       "          InvoiceDate  Price  Customer ID         Country  \n",
       "0 2010-12-01 08:26:00   2.55      17850.0  United Kingdom  \n",
       "1 2010-12-01 08:26:00   3.39      17850.0  United Kingdom  \n",
       "2 2010-12-01 08:26:00   2.75      17850.0  United Kingdom  \n",
       "3 2010-12-01 08:26:00   3.39      17850.0  United Kingdom  \n",
       "4 2010-12-01 08:26:00   3.39      17850.0  United Kingdom  "
      ]
     },
     "execution_count": 34,
     "metadata": {},
     "output_type": "execute_result"
    }
   ],
   "source": [
    "df1.head()"
   ]
  },
  {
   "cell_type": "code",
   "execution_count": 35,
   "id": "63ec2ef3",
   "metadata": {},
   "outputs": [
    {
     "name": "stderr",
     "output_type": "stream",
     "text": [
      "C:\\Users\\Imart\\AppData\\Local\\Temp\\ipykernel_23020\\723398808.py:1: SettingWithCopyWarning: \n",
      "A value is trying to be set on a copy of a slice from a DataFrame.\n",
      "Try using .loc[row_indexer,col_indexer] = value instead\n",
      "\n",
      "See the caveats in the documentation: https://pandas.pydata.org/pandas-docs/stable/user_guide/indexing.html#returning-a-view-versus-a-copy\n",
      "  df[\"TotalPrice\"] = df[\"Quantity\"] * df[\"Price\"]\n"
     ]
    }
   ],
   "source": [
    "df[\"TotalPrice\"] = df[\"Quantity\"] * df[\"Price\"]"
   ]
  },
  {
   "cell_type": "code",
   "execution_count": 36,
   "id": "8338caf6",
   "metadata": {},
   "outputs": [
    {
     "data": {
      "text/html": [
       "<div>\n",
       "<style scoped>\n",
       "    .dataframe tbody tr th:only-of-type {\n",
       "        vertical-align: middle;\n",
       "    }\n",
       "\n",
       "    .dataframe tbody tr th {\n",
       "        vertical-align: top;\n",
       "    }\n",
       "\n",
       "    .dataframe thead th {\n",
       "        text-align: right;\n",
       "    }\n",
       "</style>\n",
       "<table border=\"1\" class=\"dataframe\">\n",
       "  <thead>\n",
       "    <tr style=\"text-align: right;\">\n",
       "      <th></th>\n",
       "      <th>Invoice</th>\n",
       "      <th>StockCode</th>\n",
       "      <th>Description</th>\n",
       "      <th>Quantity</th>\n",
       "      <th>InvoiceDate</th>\n",
       "      <th>Price</th>\n",
       "      <th>Customer ID</th>\n",
       "      <th>Country</th>\n",
       "      <th>TotalPrice</th>\n",
       "    </tr>\n",
       "  </thead>\n",
       "  <tbody>\n",
       "    <tr>\n",
       "      <th>0</th>\n",
       "      <td>489434</td>\n",
       "      <td>85048</td>\n",
       "      <td>15CM CHRISTMAS GLASS BALL 20 LIGHTS</td>\n",
       "      <td>12</td>\n",
       "      <td>2009-12-01 07:45:00</td>\n",
       "      <td>6.95</td>\n",
       "      <td>13085.0</td>\n",
       "      <td>United Kingdom</td>\n",
       "      <td>83.4</td>\n",
       "    </tr>\n",
       "    <tr>\n",
       "      <th>1</th>\n",
       "      <td>489434</td>\n",
       "      <td>79323P</td>\n",
       "      <td>PINK CHERRY LIGHTS</td>\n",
       "      <td>12</td>\n",
       "      <td>2009-12-01 07:45:00</td>\n",
       "      <td>6.75</td>\n",
       "      <td>13085.0</td>\n",
       "      <td>United Kingdom</td>\n",
       "      <td>81.0</td>\n",
       "    </tr>\n",
       "    <tr>\n",
       "      <th>2</th>\n",
       "      <td>489434</td>\n",
       "      <td>79323W</td>\n",
       "      <td>WHITE CHERRY LIGHTS</td>\n",
       "      <td>12</td>\n",
       "      <td>2009-12-01 07:45:00</td>\n",
       "      <td>6.75</td>\n",
       "      <td>13085.0</td>\n",
       "      <td>United Kingdom</td>\n",
       "      <td>81.0</td>\n",
       "    </tr>\n",
       "    <tr>\n",
       "      <th>3</th>\n",
       "      <td>489434</td>\n",
       "      <td>22041</td>\n",
       "      <td>RECORD FRAME 7\" SINGLE SIZE</td>\n",
       "      <td>48</td>\n",
       "      <td>2009-12-01 07:45:00</td>\n",
       "      <td>2.10</td>\n",
       "      <td>13085.0</td>\n",
       "      <td>United Kingdom</td>\n",
       "      <td>100.8</td>\n",
       "    </tr>\n",
       "    <tr>\n",
       "      <th>4</th>\n",
       "      <td>489434</td>\n",
       "      <td>21232</td>\n",
       "      <td>STRAWBERRY CERAMIC TRINKET BOX</td>\n",
       "      <td>24</td>\n",
       "      <td>2009-12-01 07:45:00</td>\n",
       "      <td>1.25</td>\n",
       "      <td>13085.0</td>\n",
       "      <td>United Kingdom</td>\n",
       "      <td>30.0</td>\n",
       "    </tr>\n",
       "  </tbody>\n",
       "</table>\n",
       "</div>"
      ],
      "text/plain": [
       "  Invoice StockCode                          Description  Quantity  \\\n",
       "0  489434     85048  15CM CHRISTMAS GLASS BALL 20 LIGHTS        12   \n",
       "1  489434    79323P                   PINK CHERRY LIGHTS        12   \n",
       "2  489434    79323W                  WHITE CHERRY LIGHTS        12   \n",
       "3  489434     22041         RECORD FRAME 7\" SINGLE SIZE         48   \n",
       "4  489434     21232       STRAWBERRY CERAMIC TRINKET BOX        24   \n",
       "\n",
       "          InvoiceDate  Price  Customer ID         Country  TotalPrice  \n",
       "0 2009-12-01 07:45:00   6.95      13085.0  United Kingdom        83.4  \n",
       "1 2009-12-01 07:45:00   6.75      13085.0  United Kingdom        81.0  \n",
       "2 2009-12-01 07:45:00   6.75      13085.0  United Kingdom        81.0  \n",
       "3 2009-12-01 07:45:00   2.10      13085.0  United Kingdom       100.8  \n",
       "4 2009-12-01 07:45:00   1.25      13085.0  United Kingdom        30.0  "
      ]
     },
     "execution_count": 36,
     "metadata": {},
     "output_type": "execute_result"
    }
   ],
   "source": [
    "df.head()"
   ]
  },
  {
   "cell_type": "code",
   "execution_count": 37,
   "id": "69b29459",
   "metadata": {},
   "outputs": [
    {
     "name": "stderr",
     "output_type": "stream",
     "text": [
      "C:\\Users\\Imart\\AppData\\Local\\Temp\\ipykernel_23020\\82513005.py:1: SettingWithCopyWarning: \n",
      "A value is trying to be set on a copy of a slice from a DataFrame.\n",
      "Try using .loc[row_indexer,col_indexer] = value instead\n",
      "\n",
      "See the caveats in the documentation: https://pandas.pydata.org/pandas-docs/stable/user_guide/indexing.html#returning-a-view-versus-a-copy\n",
      "  df1[\"TotalPrice\"] = df1[\"Quantity\"] * df1[\"Price\"]\n"
     ]
    }
   ],
   "source": [
    "df1[\"TotalPrice\"] = df1[\"Quantity\"] * df1[\"Price\"]"
   ]
  },
  {
   "cell_type": "code",
   "execution_count": 38,
   "id": "fb0f7201",
   "metadata": {},
   "outputs": [
    {
     "data": {
      "text/html": [
       "<div>\n",
       "<style scoped>\n",
       "    .dataframe tbody tr th:only-of-type {\n",
       "        vertical-align: middle;\n",
       "    }\n",
       "\n",
       "    .dataframe tbody tr th {\n",
       "        vertical-align: top;\n",
       "    }\n",
       "\n",
       "    .dataframe thead th {\n",
       "        text-align: right;\n",
       "    }\n",
       "</style>\n",
       "<table border=\"1\" class=\"dataframe\">\n",
       "  <thead>\n",
       "    <tr style=\"text-align: right;\">\n",
       "      <th></th>\n",
       "      <th>Invoice</th>\n",
       "      <th>StockCode</th>\n",
       "      <th>Description</th>\n",
       "      <th>Quantity</th>\n",
       "      <th>InvoiceDate</th>\n",
       "      <th>Price</th>\n",
       "      <th>Customer ID</th>\n",
       "      <th>Country</th>\n",
       "      <th>TotalPrice</th>\n",
       "    </tr>\n",
       "  </thead>\n",
       "  <tbody>\n",
       "    <tr>\n",
       "      <th>0</th>\n",
       "      <td>536365</td>\n",
       "      <td>85123A</td>\n",
       "      <td>WHITE HANGING HEART T-LIGHT HOLDER</td>\n",
       "      <td>6</td>\n",
       "      <td>2010-12-01 08:26:00</td>\n",
       "      <td>2.55</td>\n",
       "      <td>17850.0</td>\n",
       "      <td>United Kingdom</td>\n",
       "      <td>15.30</td>\n",
       "    </tr>\n",
       "    <tr>\n",
       "      <th>1</th>\n",
       "      <td>536365</td>\n",
       "      <td>71053</td>\n",
       "      <td>WHITE METAL LANTERN</td>\n",
       "      <td>6</td>\n",
       "      <td>2010-12-01 08:26:00</td>\n",
       "      <td>3.39</td>\n",
       "      <td>17850.0</td>\n",
       "      <td>United Kingdom</td>\n",
       "      <td>20.34</td>\n",
       "    </tr>\n",
       "    <tr>\n",
       "      <th>2</th>\n",
       "      <td>536365</td>\n",
       "      <td>84406B</td>\n",
       "      <td>CREAM CUPID HEARTS COAT HANGER</td>\n",
       "      <td>8</td>\n",
       "      <td>2010-12-01 08:26:00</td>\n",
       "      <td>2.75</td>\n",
       "      <td>17850.0</td>\n",
       "      <td>United Kingdom</td>\n",
       "      <td>22.00</td>\n",
       "    </tr>\n",
       "    <tr>\n",
       "      <th>3</th>\n",
       "      <td>536365</td>\n",
       "      <td>84029G</td>\n",
       "      <td>KNITTED UNION FLAG HOT WATER BOTTLE</td>\n",
       "      <td>6</td>\n",
       "      <td>2010-12-01 08:26:00</td>\n",
       "      <td>3.39</td>\n",
       "      <td>17850.0</td>\n",
       "      <td>United Kingdom</td>\n",
       "      <td>20.34</td>\n",
       "    </tr>\n",
       "    <tr>\n",
       "      <th>4</th>\n",
       "      <td>536365</td>\n",
       "      <td>84029E</td>\n",
       "      <td>RED WOOLLY HOTTIE WHITE HEART.</td>\n",
       "      <td>6</td>\n",
       "      <td>2010-12-01 08:26:00</td>\n",
       "      <td>3.39</td>\n",
       "      <td>17850.0</td>\n",
       "      <td>United Kingdom</td>\n",
       "      <td>20.34</td>\n",
       "    </tr>\n",
       "  </tbody>\n",
       "</table>\n",
       "</div>"
      ],
      "text/plain": [
       "  Invoice StockCode                          Description  Quantity  \\\n",
       "0  536365    85123A   WHITE HANGING HEART T-LIGHT HOLDER         6   \n",
       "1  536365     71053                  WHITE METAL LANTERN         6   \n",
       "2  536365    84406B       CREAM CUPID HEARTS COAT HANGER         8   \n",
       "3  536365    84029G  KNITTED UNION FLAG HOT WATER BOTTLE         6   \n",
       "4  536365    84029E       RED WOOLLY HOTTIE WHITE HEART.         6   \n",
       "\n",
       "          InvoiceDate  Price  Customer ID         Country  TotalPrice  \n",
       "0 2010-12-01 08:26:00   2.55      17850.0  United Kingdom       15.30  \n",
       "1 2010-12-01 08:26:00   3.39      17850.0  United Kingdom       20.34  \n",
       "2 2010-12-01 08:26:00   2.75      17850.0  United Kingdom       22.00  \n",
       "3 2010-12-01 08:26:00   3.39      17850.0  United Kingdom       20.34  \n",
       "4 2010-12-01 08:26:00   3.39      17850.0  United Kingdom       20.34  "
      ]
     },
     "execution_count": 38,
     "metadata": {},
     "output_type": "execute_result"
    }
   ],
   "source": [
    "df1.head()"
   ]
  },
  {
   "cell_type": "code",
   "execution_count": 39,
   "id": "82f3eb79",
   "metadata": {},
   "outputs": [],
   "source": [
    "final_df = pd.concat([df, df1], ignore_index=True)"
   ]
  },
  {
   "cell_type": "code",
   "execution_count": 40,
   "id": "6308e8bb",
   "metadata": {},
   "outputs": [
    {
     "data": {
      "text/html": [
       "<div>\n",
       "<style scoped>\n",
       "    .dataframe tbody tr th:only-of-type {\n",
       "        vertical-align: middle;\n",
       "    }\n",
       "\n",
       "    .dataframe tbody tr th {\n",
       "        vertical-align: top;\n",
       "    }\n",
       "\n",
       "    .dataframe thead th {\n",
       "        text-align: right;\n",
       "    }\n",
       "</style>\n",
       "<table border=\"1\" class=\"dataframe\">\n",
       "  <thead>\n",
       "    <tr style=\"text-align: right;\">\n",
       "      <th></th>\n",
       "      <th>Invoice</th>\n",
       "      <th>StockCode</th>\n",
       "      <th>Description</th>\n",
       "      <th>Quantity</th>\n",
       "      <th>InvoiceDate</th>\n",
       "      <th>Price</th>\n",
       "      <th>Customer ID</th>\n",
       "      <th>Country</th>\n",
       "      <th>TotalPrice</th>\n",
       "    </tr>\n",
       "  </thead>\n",
       "  <tbody>\n",
       "    <tr>\n",
       "      <th>0</th>\n",
       "      <td>489434</td>\n",
       "      <td>85048</td>\n",
       "      <td>15CM CHRISTMAS GLASS BALL 20 LIGHTS</td>\n",
       "      <td>12</td>\n",
       "      <td>2009-12-01 07:45:00</td>\n",
       "      <td>6.95</td>\n",
       "      <td>13085.0</td>\n",
       "      <td>United Kingdom</td>\n",
       "      <td>83.4</td>\n",
       "    </tr>\n",
       "    <tr>\n",
       "      <th>1</th>\n",
       "      <td>489434</td>\n",
       "      <td>79323P</td>\n",
       "      <td>PINK CHERRY LIGHTS</td>\n",
       "      <td>12</td>\n",
       "      <td>2009-12-01 07:45:00</td>\n",
       "      <td>6.75</td>\n",
       "      <td>13085.0</td>\n",
       "      <td>United Kingdom</td>\n",
       "      <td>81.0</td>\n",
       "    </tr>\n",
       "    <tr>\n",
       "      <th>2</th>\n",
       "      <td>489434</td>\n",
       "      <td>79323W</td>\n",
       "      <td>WHITE CHERRY LIGHTS</td>\n",
       "      <td>12</td>\n",
       "      <td>2009-12-01 07:45:00</td>\n",
       "      <td>6.75</td>\n",
       "      <td>13085.0</td>\n",
       "      <td>United Kingdom</td>\n",
       "      <td>81.0</td>\n",
       "    </tr>\n",
       "    <tr>\n",
       "      <th>3</th>\n",
       "      <td>489434</td>\n",
       "      <td>22041</td>\n",
       "      <td>RECORD FRAME 7\" SINGLE SIZE</td>\n",
       "      <td>48</td>\n",
       "      <td>2009-12-01 07:45:00</td>\n",
       "      <td>2.10</td>\n",
       "      <td>13085.0</td>\n",
       "      <td>United Kingdom</td>\n",
       "      <td>100.8</td>\n",
       "    </tr>\n",
       "    <tr>\n",
       "      <th>4</th>\n",
       "      <td>489434</td>\n",
       "      <td>21232</td>\n",
       "      <td>STRAWBERRY CERAMIC TRINKET BOX</td>\n",
       "      <td>24</td>\n",
       "      <td>2009-12-01 07:45:00</td>\n",
       "      <td>1.25</td>\n",
       "      <td>13085.0</td>\n",
       "      <td>United Kingdom</td>\n",
       "      <td>30.0</td>\n",
       "    </tr>\n",
       "  </tbody>\n",
       "</table>\n",
       "</div>"
      ],
      "text/plain": [
       "  Invoice StockCode                          Description  Quantity  \\\n",
       "0  489434     85048  15CM CHRISTMAS GLASS BALL 20 LIGHTS        12   \n",
       "1  489434    79323P                   PINK CHERRY LIGHTS        12   \n",
       "2  489434    79323W                  WHITE CHERRY LIGHTS        12   \n",
       "3  489434     22041         RECORD FRAME 7\" SINGLE SIZE         48   \n",
       "4  489434     21232       STRAWBERRY CERAMIC TRINKET BOX        24   \n",
       "\n",
       "          InvoiceDate  Price  Customer ID         Country  TotalPrice  \n",
       "0 2009-12-01 07:45:00   6.95      13085.0  United Kingdom        83.4  \n",
       "1 2009-12-01 07:45:00   6.75      13085.0  United Kingdom        81.0  \n",
       "2 2009-12-01 07:45:00   6.75      13085.0  United Kingdom        81.0  \n",
       "3 2009-12-01 07:45:00   2.10      13085.0  United Kingdom       100.8  \n",
       "4 2009-12-01 07:45:00   1.25      13085.0  United Kingdom        30.0  "
      ]
     },
     "execution_count": 40,
     "metadata": {},
     "output_type": "execute_result"
    }
   ],
   "source": [
    "final_df.head()"
   ]
  },
  {
   "cell_type": "code",
   "execution_count": 41,
   "id": "98f66852",
   "metadata": {},
   "outputs": [
    {
     "data": {
      "text/plain": [
       "(793609, 9)"
      ]
     },
     "execution_count": 41,
     "metadata": {},
     "output_type": "execute_result"
    }
   ],
   "source": [
    "final_df.shape"
   ]
  },
  {
   "cell_type": "code",
   "execution_count": 42,
   "id": "b958d480",
   "metadata": {},
   "outputs": [
    {
     "data": {
      "text/html": [
       "<div>\n",
       "<style scoped>\n",
       "    .dataframe tbody tr th:only-of-type {\n",
       "        vertical-align: middle;\n",
       "    }\n",
       "\n",
       "    .dataframe tbody tr th {\n",
       "        vertical-align: top;\n",
       "    }\n",
       "\n",
       "    .dataframe thead th {\n",
       "        text-align: right;\n",
       "    }\n",
       "</style>\n",
       "<table border=\"1\" class=\"dataframe\">\n",
       "  <thead>\n",
       "    <tr style=\"text-align: right;\">\n",
       "      <th></th>\n",
       "      <th>Invoice</th>\n",
       "      <th>StockCode</th>\n",
       "      <th>Description</th>\n",
       "      <th>Quantity</th>\n",
       "      <th>InvoiceDate</th>\n",
       "      <th>Price</th>\n",
       "      <th>Customer ID</th>\n",
       "      <th>Country</th>\n",
       "      <th>TotalPrice</th>\n",
       "    </tr>\n",
       "  </thead>\n",
       "  <tbody>\n",
       "    <tr>\n",
       "      <th>793604</th>\n",
       "      <td>581587</td>\n",
       "      <td>22899</td>\n",
       "      <td>CHILDREN'S APRON DOLLY GIRL</td>\n",
       "      <td>6</td>\n",
       "      <td>2011-12-09 12:50:00</td>\n",
       "      <td>2.10</td>\n",
       "      <td>12680.0</td>\n",
       "      <td>France</td>\n",
       "      <td>12.60</td>\n",
       "    </tr>\n",
       "    <tr>\n",
       "      <th>793605</th>\n",
       "      <td>581587</td>\n",
       "      <td>23254</td>\n",
       "      <td>CHILDRENS CUTLERY DOLLY GIRL</td>\n",
       "      <td>4</td>\n",
       "      <td>2011-12-09 12:50:00</td>\n",
       "      <td>4.15</td>\n",
       "      <td>12680.0</td>\n",
       "      <td>France</td>\n",
       "      <td>16.60</td>\n",
       "    </tr>\n",
       "    <tr>\n",
       "      <th>793606</th>\n",
       "      <td>581587</td>\n",
       "      <td>23255</td>\n",
       "      <td>CHILDRENS CUTLERY CIRCUS PARADE</td>\n",
       "      <td>4</td>\n",
       "      <td>2011-12-09 12:50:00</td>\n",
       "      <td>4.15</td>\n",
       "      <td>12680.0</td>\n",
       "      <td>France</td>\n",
       "      <td>16.60</td>\n",
       "    </tr>\n",
       "    <tr>\n",
       "      <th>793607</th>\n",
       "      <td>581587</td>\n",
       "      <td>22138</td>\n",
       "      <td>BAKING SET 9 PIECE RETROSPOT</td>\n",
       "      <td>3</td>\n",
       "      <td>2011-12-09 12:50:00</td>\n",
       "      <td>4.95</td>\n",
       "      <td>12680.0</td>\n",
       "      <td>France</td>\n",
       "      <td>14.85</td>\n",
       "    </tr>\n",
       "    <tr>\n",
       "      <th>793608</th>\n",
       "      <td>581587</td>\n",
       "      <td>POST</td>\n",
       "      <td>POSTAGE</td>\n",
       "      <td>1</td>\n",
       "      <td>2011-12-09 12:50:00</td>\n",
       "      <td>18.00</td>\n",
       "      <td>12680.0</td>\n",
       "      <td>France</td>\n",
       "      <td>18.00</td>\n",
       "    </tr>\n",
       "  </tbody>\n",
       "</table>\n",
       "</div>"
      ],
      "text/plain": [
       "       Invoice StockCode                      Description  Quantity  \\\n",
       "793604  581587     22899     CHILDREN'S APRON DOLLY GIRL          6   \n",
       "793605  581587     23254    CHILDRENS CUTLERY DOLLY GIRL          4   \n",
       "793606  581587     23255  CHILDRENS CUTLERY CIRCUS PARADE         4   \n",
       "793607  581587     22138    BAKING SET 9 PIECE RETROSPOT          3   \n",
       "793608  581587      POST                          POSTAGE         1   \n",
       "\n",
       "               InvoiceDate  Price  Customer ID Country  TotalPrice  \n",
       "793604 2011-12-09 12:50:00   2.10      12680.0  France       12.60  \n",
       "793605 2011-12-09 12:50:00   4.15      12680.0  France       16.60  \n",
       "793606 2011-12-09 12:50:00   4.15      12680.0  France       16.60  \n",
       "793607 2011-12-09 12:50:00   4.95      12680.0  France       14.85  \n",
       "793608 2011-12-09 12:50:00  18.00      12680.0  France       18.00  "
      ]
     },
     "execution_count": 42,
     "metadata": {},
     "output_type": "execute_result"
    }
   ],
   "source": [
    "final_df.tail()"
   ]
  },
  {
   "cell_type": "code",
   "execution_count": 43,
   "id": "d9c27927",
   "metadata": {},
   "outputs": [],
   "source": [
    "final_df['InvoiceDate'] = pd.to_datetime(final_df['InvoiceDate'], format='%m/%d/%Y ')"
   ]
  },
  {
   "cell_type": "code",
   "execution_count": 44,
   "id": "53863a1c",
   "metadata": {},
   "outputs": [],
   "source": [
    "final_df['year_month'] = final_df['InvoiceDate'].dt.to_period('M')\n"
   ]
  },
  {
   "cell_type": "code",
   "execution_count": 45,
   "id": "a09b2a43",
   "metadata": {},
   "outputs": [
    {
     "data": {
      "text/html": [
       "<div>\n",
       "<style scoped>\n",
       "    .dataframe tbody tr th:only-of-type {\n",
       "        vertical-align: middle;\n",
       "    }\n",
       "\n",
       "    .dataframe tbody tr th {\n",
       "        vertical-align: top;\n",
       "    }\n",
       "\n",
       "    .dataframe thead th {\n",
       "        text-align: right;\n",
       "    }\n",
       "</style>\n",
       "<table border=\"1\" class=\"dataframe\">\n",
       "  <thead>\n",
       "    <tr style=\"text-align: right;\">\n",
       "      <th></th>\n",
       "      <th>Invoice</th>\n",
       "      <th>StockCode</th>\n",
       "      <th>Description</th>\n",
       "      <th>Quantity</th>\n",
       "      <th>InvoiceDate</th>\n",
       "      <th>Price</th>\n",
       "      <th>Customer ID</th>\n",
       "      <th>Country</th>\n",
       "      <th>TotalPrice</th>\n",
       "      <th>year_month</th>\n",
       "    </tr>\n",
       "  </thead>\n",
       "  <tbody>\n",
       "    <tr>\n",
       "      <th>0</th>\n",
       "      <td>489434</td>\n",
       "      <td>85048</td>\n",
       "      <td>15CM CHRISTMAS GLASS BALL 20 LIGHTS</td>\n",
       "      <td>12</td>\n",
       "      <td>2009-12-01 07:45:00</td>\n",
       "      <td>6.95</td>\n",
       "      <td>13085.0</td>\n",
       "      <td>United Kingdom</td>\n",
       "      <td>83.4</td>\n",
       "      <td>2009-12</td>\n",
       "    </tr>\n",
       "    <tr>\n",
       "      <th>1</th>\n",
       "      <td>489434</td>\n",
       "      <td>79323P</td>\n",
       "      <td>PINK CHERRY LIGHTS</td>\n",
       "      <td>12</td>\n",
       "      <td>2009-12-01 07:45:00</td>\n",
       "      <td>6.75</td>\n",
       "      <td>13085.0</td>\n",
       "      <td>United Kingdom</td>\n",
       "      <td>81.0</td>\n",
       "      <td>2009-12</td>\n",
       "    </tr>\n",
       "    <tr>\n",
       "      <th>2</th>\n",
       "      <td>489434</td>\n",
       "      <td>79323W</td>\n",
       "      <td>WHITE CHERRY LIGHTS</td>\n",
       "      <td>12</td>\n",
       "      <td>2009-12-01 07:45:00</td>\n",
       "      <td>6.75</td>\n",
       "      <td>13085.0</td>\n",
       "      <td>United Kingdom</td>\n",
       "      <td>81.0</td>\n",
       "      <td>2009-12</td>\n",
       "    </tr>\n",
       "    <tr>\n",
       "      <th>3</th>\n",
       "      <td>489434</td>\n",
       "      <td>22041</td>\n",
       "      <td>RECORD FRAME 7\" SINGLE SIZE</td>\n",
       "      <td>48</td>\n",
       "      <td>2009-12-01 07:45:00</td>\n",
       "      <td>2.10</td>\n",
       "      <td>13085.0</td>\n",
       "      <td>United Kingdom</td>\n",
       "      <td>100.8</td>\n",
       "      <td>2009-12</td>\n",
       "    </tr>\n",
       "    <tr>\n",
       "      <th>4</th>\n",
       "      <td>489434</td>\n",
       "      <td>21232</td>\n",
       "      <td>STRAWBERRY CERAMIC TRINKET BOX</td>\n",
       "      <td>24</td>\n",
       "      <td>2009-12-01 07:45:00</td>\n",
       "      <td>1.25</td>\n",
       "      <td>13085.0</td>\n",
       "      <td>United Kingdom</td>\n",
       "      <td>30.0</td>\n",
       "      <td>2009-12</td>\n",
       "    </tr>\n",
       "  </tbody>\n",
       "</table>\n",
       "</div>"
      ],
      "text/plain": [
       "  Invoice StockCode                          Description  Quantity  \\\n",
       "0  489434     85048  15CM CHRISTMAS GLASS BALL 20 LIGHTS        12   \n",
       "1  489434    79323P                   PINK CHERRY LIGHTS        12   \n",
       "2  489434    79323W                  WHITE CHERRY LIGHTS        12   \n",
       "3  489434     22041         RECORD FRAME 7\" SINGLE SIZE         48   \n",
       "4  489434     21232       STRAWBERRY CERAMIC TRINKET BOX        24   \n",
       "\n",
       "          InvoiceDate  Price  Customer ID         Country  TotalPrice  \\\n",
       "0 2009-12-01 07:45:00   6.95      13085.0  United Kingdom        83.4   \n",
       "1 2009-12-01 07:45:00   6.75      13085.0  United Kingdom        81.0   \n",
       "2 2009-12-01 07:45:00   6.75      13085.0  United Kingdom        81.0   \n",
       "3 2009-12-01 07:45:00   2.10      13085.0  United Kingdom       100.8   \n",
       "4 2009-12-01 07:45:00   1.25      13085.0  United Kingdom        30.0   \n",
       "\n",
       "  year_month  \n",
       "0    2009-12  \n",
       "1    2009-12  \n",
       "2    2009-12  \n",
       "3    2009-12  \n",
       "4    2009-12  "
      ]
     },
     "execution_count": 45,
     "metadata": {},
     "output_type": "execute_result"
    }
   ],
   "source": [
    "final_df.head()"
   ]
  },
  {
   "cell_type": "code",
   "execution_count": 46,
   "id": "947de410",
   "metadata": {},
   "outputs": [
    {
     "data": {
      "text/plain": [
       "(793609, 10)"
      ]
     },
     "execution_count": 46,
     "metadata": {},
     "output_type": "execute_result"
    }
   ],
   "source": [
    "final_df.shape"
   ]
  },
  {
   "cell_type": "code",
   "execution_count": 47,
   "id": "7ff74881",
   "metadata": {},
   "outputs": [
    {
     "data": {
      "text/html": [
       "<div>\n",
       "<style scoped>\n",
       "    .dataframe tbody tr th:only-of-type {\n",
       "        vertical-align: middle;\n",
       "    }\n",
       "\n",
       "    .dataframe tbody tr th {\n",
       "        vertical-align: top;\n",
       "    }\n",
       "\n",
       "    .dataframe thead th {\n",
       "        text-align: right;\n",
       "    }\n",
       "</style>\n",
       "<table border=\"1\" class=\"dataframe\">\n",
       "  <thead>\n",
       "    <tr style=\"text-align: right;\">\n",
       "      <th></th>\n",
       "      <th>Invoice</th>\n",
       "      <th>StockCode</th>\n",
       "      <th>Description</th>\n",
       "      <th>Quantity</th>\n",
       "      <th>InvoiceDate</th>\n",
       "      <th>Price</th>\n",
       "      <th>Customer ID</th>\n",
       "      <th>Country</th>\n",
       "      <th>TotalPrice</th>\n",
       "      <th>year_month</th>\n",
       "    </tr>\n",
       "  </thead>\n",
       "  <tbody>\n",
       "    <tr>\n",
       "      <th>793604</th>\n",
       "      <td>581587</td>\n",
       "      <td>22899</td>\n",
       "      <td>CHILDREN'S APRON DOLLY GIRL</td>\n",
       "      <td>6</td>\n",
       "      <td>2011-12-09 12:50:00</td>\n",
       "      <td>2.10</td>\n",
       "      <td>12680.0</td>\n",
       "      <td>France</td>\n",
       "      <td>12.60</td>\n",
       "      <td>2011-12</td>\n",
       "    </tr>\n",
       "    <tr>\n",
       "      <th>793605</th>\n",
       "      <td>581587</td>\n",
       "      <td>23254</td>\n",
       "      <td>CHILDRENS CUTLERY DOLLY GIRL</td>\n",
       "      <td>4</td>\n",
       "      <td>2011-12-09 12:50:00</td>\n",
       "      <td>4.15</td>\n",
       "      <td>12680.0</td>\n",
       "      <td>France</td>\n",
       "      <td>16.60</td>\n",
       "      <td>2011-12</td>\n",
       "    </tr>\n",
       "    <tr>\n",
       "      <th>793606</th>\n",
       "      <td>581587</td>\n",
       "      <td>23255</td>\n",
       "      <td>CHILDRENS CUTLERY CIRCUS PARADE</td>\n",
       "      <td>4</td>\n",
       "      <td>2011-12-09 12:50:00</td>\n",
       "      <td>4.15</td>\n",
       "      <td>12680.0</td>\n",
       "      <td>France</td>\n",
       "      <td>16.60</td>\n",
       "      <td>2011-12</td>\n",
       "    </tr>\n",
       "    <tr>\n",
       "      <th>793607</th>\n",
       "      <td>581587</td>\n",
       "      <td>22138</td>\n",
       "      <td>BAKING SET 9 PIECE RETROSPOT</td>\n",
       "      <td>3</td>\n",
       "      <td>2011-12-09 12:50:00</td>\n",
       "      <td>4.95</td>\n",
       "      <td>12680.0</td>\n",
       "      <td>France</td>\n",
       "      <td>14.85</td>\n",
       "      <td>2011-12</td>\n",
       "    </tr>\n",
       "    <tr>\n",
       "      <th>793608</th>\n",
       "      <td>581587</td>\n",
       "      <td>POST</td>\n",
       "      <td>POSTAGE</td>\n",
       "      <td>1</td>\n",
       "      <td>2011-12-09 12:50:00</td>\n",
       "      <td>18.00</td>\n",
       "      <td>12680.0</td>\n",
       "      <td>France</td>\n",
       "      <td>18.00</td>\n",
       "      <td>2011-12</td>\n",
       "    </tr>\n",
       "  </tbody>\n",
       "</table>\n",
       "</div>"
      ],
      "text/plain": [
       "       Invoice StockCode                      Description  Quantity  \\\n",
       "793604  581587     22899     CHILDREN'S APRON DOLLY GIRL          6   \n",
       "793605  581587     23254    CHILDRENS CUTLERY DOLLY GIRL          4   \n",
       "793606  581587     23255  CHILDRENS CUTLERY CIRCUS PARADE         4   \n",
       "793607  581587     22138    BAKING SET 9 PIECE RETROSPOT          3   \n",
       "793608  581587      POST                          POSTAGE         1   \n",
       "\n",
       "               InvoiceDate  Price  Customer ID Country  TotalPrice year_month  \n",
       "793604 2011-12-09 12:50:00   2.10      12680.0  France       12.60    2011-12  \n",
       "793605 2011-12-09 12:50:00   4.15      12680.0  France       16.60    2011-12  \n",
       "793606 2011-12-09 12:50:00   4.15      12680.0  France       16.60    2011-12  \n",
       "793607 2011-12-09 12:50:00   4.95      12680.0  France       14.85    2011-12  \n",
       "793608 2011-12-09 12:50:00  18.00      12680.0  France       18.00    2011-12  "
      ]
     },
     "execution_count": 47,
     "metadata": {},
     "output_type": "execute_result"
    }
   ],
   "source": [
    "final_df.tail()"
   ]
  },
  {
   "cell_type": "code",
   "execution_count": 48,
   "id": "8feb4b3e",
   "metadata": {},
   "outputs": [
    {
     "name": "stdout",
     "output_type": "stream",
     "text": [
      "year_month\n",
      "2009-12     683504.010\n",
      "2010-01     555802.672\n",
      "2010-02     504558.956\n",
      "2010-03     696978.471\n",
      "2010-04     591982.002\n",
      "2010-05     597833.380\n",
      "2010-06     636371.130\n",
      "2010-07     589736.170\n",
      "2010-08     602224.600\n",
      "2010-09     829013.951\n",
      "2010-10    1033112.010\n",
      "2010-11    1166460.022\n",
      "2010-12     881079.100\n",
      "2011-01     568101.310\n",
      "2011-02     446084.920\n",
      "2011-03     594081.760\n",
      "2011-04     468374.331\n",
      "2011-05     677355.150\n",
      "2011-06     660046.050\n",
      "2011-07     598962.901\n",
      "2011-08     644051.040\n",
      "2011-09     950690.202\n",
      "2011-10    1035642.450\n",
      "2011-11    1156205.610\n",
      "2011-12     517208.440\n",
      "Freq: M, Name: TotalPrice, dtype: float64\n"
     ]
    }
   ],
   "source": [
    "sales_data = final_df.loc[:, ['year_month', 'TotalPrice']].groupby('year_month')['TotalPrice'].sum()\n",
    "\n",
    "# Print the resulting sales_data\n",
    "print(sales_data)"
   ]
  },
  {
   "cell_type": "code",
   "execution_count": 47,
   "id": "df859b24",
   "metadata": {},
   "outputs": [
    {
     "data": {
      "text/plain": [
       "year_month\n",
       "2009-12     683504.010\n",
       "2010-01     555802.672\n",
       "2010-02     504558.956\n",
       "2010-03     696978.471\n",
       "2010-04     591982.002\n",
       "2010-05     597833.380\n",
       "2010-06     636371.130\n",
       "2010-07     589736.170\n",
       "2010-08     602224.600\n",
       "2010-09     829013.951\n",
       "2010-10    1033112.010\n",
       "2010-11    1166460.022\n",
       "2010-12     881079.100\n",
       "2011-01     568101.310\n",
       "2011-02     446084.920\n",
       "2011-03     594081.760\n",
       "2011-04     468374.331\n",
       "2011-05     677355.150\n",
       "2011-06     660046.050\n",
       "2011-07     598962.901\n",
       "2011-08     644051.040\n",
       "2011-09     950690.202\n",
       "2011-10    1035642.450\n",
       "2011-11    1156205.610\n",
       "2011-12     517208.440\n",
       "Freq: M, Name: TotalPrice, dtype: float64"
      ]
     },
     "execution_count": 47,
     "metadata": {},
     "output_type": "execute_result"
    }
   ],
   "source": [
    "sales_data"
   ]
  },
  {
   "cell_type": "markdown",
   "id": "dda1c485",
   "metadata": {},
   "source": [
    "<h3><span style=\"color:green\">\n",
    " Time Series Forecasting\n",
    "</span></h3> "
   ]
  },
  {
   "cell_type": "markdown",
   "id": "ab4882ba",
   "metadata": {},
   "source": [
    "In simple terms, time-series forecasting uses historical and current data to predict future values over a period or at a specific point in the future. By analyzing past data, we can make informed decisions, guide business strategy, and understand future trends."
   ]
  },
  {
   "cell_type": "markdown",
   "id": "2eb8c255",
   "metadata": {},
   "source": [
    "To perform the time series analysis, we have to follow the following steps:\n",
    "\n",
    "1.Collecting the data and cleaning it\n",
    "2.Preparing Visualization with respect to time vs key feature\n",
    "3.Observing the stationarity of the series\n",
    "4.Developing charts to understand its nature.\n",
    "5.Model building – AR,MA,ARMA,ARIMA,SARIMA,SES,VAR,LSTM,"
   ]
  },
  {
   "cell_type": "markdown",
   "id": "55321405",
   "metadata": {},
   "source": [
    "Select the appropriate model based on:\n",
    "1.Trend: In which there is no fixed interval and any divergence within the given dataset is a continuous timeline. The trend would be Negative or Positive or Null Trend\n",
    "2.Seasonality: In which regular or fixed interval shifts within the dataset in a continuous timeline. Would be bell curve or saw tooth\n",
    "3.Cyclical: In which there is no fixed interval, uncertainty in movement and its pattern\n",
    "4.Irregularity: Unexpected situations/events/scenarios and spikes in a short time span."
   ]
  },
  {
   "cell_type": "markdown",
   "id": "fcacafa9",
   "metadata": {},
   "source": [
    "Data Types of Time Series:\n",
    "    1.Stationary\n",
    "    2.Non- Stationary"
   ]
  },
  {
   "cell_type": "markdown",
   "id": "e41301cf",
   "metadata": {},
   "source": [
    "Methods to Check Stationarity\n",
    "During the TSA model preparation workflow, we must assess whether the dataset is stationary or not. This is done using Statistical Tests. There are two tests available to test if the dataset is stationary:\n",
    "\n",
    "1.Augmented Dickey-Fuller (ADF) Test or Unit Root Test\n",
    "The ADF test is the most popular statistical test. It is done with the following assumptions:\n",
    "\n",
    "Null Hypothesis (H0): Series is non-stationary\n",
    "Alternate Hypothesis (HA): Series is stationary\n",
    "p-value >0.05 Fail to reject (H0)\n",
    "p-value <= 0.05 Accept (H1)\n",
    "2.Kwiatkowski-Phillips-Schmidt-Shin (KPSS) Test"
   ]
  },
  {
   "cell_type": "markdown",
   "id": "7be2de4f",
   "metadata": {},
   "source": [
    "Converting Non-Stationary Into Stationary:\n",
    "    1.Detrending\n",
    "    2.Differencing\n",
    "    3.Transformation"
   ]
  },
  {
   "cell_type": "code",
   "execution_count": 49,
   "id": "01063ca1",
   "metadata": {},
   "outputs": [],
   "source": [
    "sales_data= pd.DataFrame(sales_data)"
   ]
  },
  {
   "cell_type": "code",
   "execution_count": 50,
   "id": "e94756ff",
   "metadata": {},
   "outputs": [
    {
     "data": {
      "text/html": [
       "<div>\n",
       "<style scoped>\n",
       "    .dataframe tbody tr th:only-of-type {\n",
       "        vertical-align: middle;\n",
       "    }\n",
       "\n",
       "    .dataframe tbody tr th {\n",
       "        vertical-align: top;\n",
       "    }\n",
       "\n",
       "    .dataframe thead th {\n",
       "        text-align: right;\n",
       "    }\n",
       "</style>\n",
       "<table border=\"1\" class=\"dataframe\">\n",
       "  <thead>\n",
       "    <tr style=\"text-align: right;\">\n",
       "      <th></th>\n",
       "      <th>TotalPrice</th>\n",
       "    </tr>\n",
       "    <tr>\n",
       "      <th>year_month</th>\n",
       "      <th></th>\n",
       "    </tr>\n",
       "  </thead>\n",
       "  <tbody>\n",
       "    <tr>\n",
       "      <th>2009-12</th>\n",
       "      <td>683504.010</td>\n",
       "    </tr>\n",
       "    <tr>\n",
       "      <th>2010-01</th>\n",
       "      <td>555802.672</td>\n",
       "    </tr>\n",
       "    <tr>\n",
       "      <th>2010-02</th>\n",
       "      <td>504558.956</td>\n",
       "    </tr>\n",
       "    <tr>\n",
       "      <th>2010-03</th>\n",
       "      <td>696978.471</td>\n",
       "    </tr>\n",
       "    <tr>\n",
       "      <th>2010-04</th>\n",
       "      <td>591982.002</td>\n",
       "    </tr>\n",
       "    <tr>\n",
       "      <th>2010-05</th>\n",
       "      <td>597833.380</td>\n",
       "    </tr>\n",
       "    <tr>\n",
       "      <th>2010-06</th>\n",
       "      <td>636371.130</td>\n",
       "    </tr>\n",
       "    <tr>\n",
       "      <th>2010-07</th>\n",
       "      <td>589736.170</td>\n",
       "    </tr>\n",
       "    <tr>\n",
       "      <th>2010-08</th>\n",
       "      <td>602224.600</td>\n",
       "    </tr>\n",
       "    <tr>\n",
       "      <th>2010-09</th>\n",
       "      <td>829013.951</td>\n",
       "    </tr>\n",
       "    <tr>\n",
       "      <th>2010-10</th>\n",
       "      <td>1033112.010</td>\n",
       "    </tr>\n",
       "    <tr>\n",
       "      <th>2010-11</th>\n",
       "      <td>1166460.022</td>\n",
       "    </tr>\n",
       "    <tr>\n",
       "      <th>2010-12</th>\n",
       "      <td>881079.100</td>\n",
       "    </tr>\n",
       "    <tr>\n",
       "      <th>2011-01</th>\n",
       "      <td>568101.310</td>\n",
       "    </tr>\n",
       "    <tr>\n",
       "      <th>2011-02</th>\n",
       "      <td>446084.920</td>\n",
       "    </tr>\n",
       "    <tr>\n",
       "      <th>2011-03</th>\n",
       "      <td>594081.760</td>\n",
       "    </tr>\n",
       "    <tr>\n",
       "      <th>2011-04</th>\n",
       "      <td>468374.331</td>\n",
       "    </tr>\n",
       "    <tr>\n",
       "      <th>2011-05</th>\n",
       "      <td>677355.150</td>\n",
       "    </tr>\n",
       "    <tr>\n",
       "      <th>2011-06</th>\n",
       "      <td>660046.050</td>\n",
       "    </tr>\n",
       "    <tr>\n",
       "      <th>2011-07</th>\n",
       "      <td>598962.901</td>\n",
       "    </tr>\n",
       "    <tr>\n",
       "      <th>2011-08</th>\n",
       "      <td>644051.040</td>\n",
       "    </tr>\n",
       "    <tr>\n",
       "      <th>2011-09</th>\n",
       "      <td>950690.202</td>\n",
       "    </tr>\n",
       "    <tr>\n",
       "      <th>2011-10</th>\n",
       "      <td>1035642.450</td>\n",
       "    </tr>\n",
       "    <tr>\n",
       "      <th>2011-11</th>\n",
       "      <td>1156205.610</td>\n",
       "    </tr>\n",
       "    <tr>\n",
       "      <th>2011-12</th>\n",
       "      <td>517208.440</td>\n",
       "    </tr>\n",
       "  </tbody>\n",
       "</table>\n",
       "</div>"
      ],
      "text/plain": [
       "             TotalPrice\n",
       "year_month             \n",
       "2009-12      683504.010\n",
       "2010-01      555802.672\n",
       "2010-02      504558.956\n",
       "2010-03      696978.471\n",
       "2010-04      591982.002\n",
       "2010-05      597833.380\n",
       "2010-06      636371.130\n",
       "2010-07      589736.170\n",
       "2010-08      602224.600\n",
       "2010-09      829013.951\n",
       "2010-10     1033112.010\n",
       "2010-11     1166460.022\n",
       "2010-12      881079.100\n",
       "2011-01      568101.310\n",
       "2011-02      446084.920\n",
       "2011-03      594081.760\n",
       "2011-04      468374.331\n",
       "2011-05      677355.150\n",
       "2011-06      660046.050\n",
       "2011-07      598962.901\n",
       "2011-08      644051.040\n",
       "2011-09      950690.202\n",
       "2011-10     1035642.450\n",
       "2011-11     1156205.610\n",
       "2011-12      517208.440"
      ]
     },
     "execution_count": 50,
     "metadata": {},
     "output_type": "execute_result"
    }
   ],
   "source": [
    "sales_data"
   ]
  },
  {
   "cell_type": "code",
   "execution_count": 51,
   "id": "6e8d1b88",
   "metadata": {},
   "outputs": [
    {
     "data": {
      "image/png": "[encoded data removed]",
      "text/plain": [
       "<Figure size 1000x400 with 1 Axes>"
      ]
     },
     "metadata": {},
     "output_type": "display_data"
    }
   ],
   "source": [
    "import pandas as pd\n",
    "import numpy as np\n",
    "import matplotlib.pyplot as plt\n",
    "from statsmodels.tsa.arima.model import ARIMA\n",
    "from sklearn.metrics import mean_squared_error\n",
    "\n",
    "# Example sales data\n",
    "# Replace this with your actual sales data\n",
    " \n",
    "# Convert PeriodIndex to datetime index for plotting\n",
    "sales_data.index = sales_data.index.to_timestamp()\n",
    "\n",
    "# Plot the sales data\n",
    "plt.figure(figsize=(10, 4))\n",
    "plt.plot(sales_data, label='Sales')\n",
    "plt.title('Monthly Sales Data')\n",
    "plt.xlabel('Date')\n",
    "plt.ylabel('Sales')\n",
    "plt.legend()\n",
    "plt.show()\n"
   ]
  },
  {
   "cell_type": "markdown",
   "id": "2256bb13",
   "metadata": {},
   "source": [
    "Seasonality in time series data refers to patterns that repeat over a specific time period. In the graph, it appears there are sales fluctuations that occur throughout the year, possibly indicating higher sales in some months compared to others.\n",
    "\n",
    "A SARIMA (Seasonal Autoregressive Integrated Moving Average) model is a statistical method specifically designed to forecast time series data with seasonality. It  combines the strengths of ARIMA models, which capture non-seasonal patterns, with additional components to account for seasonal effects."
   ]
  },
  {
   "cell_type": "markdown",
   "id": "d432ec9f",
   "metadata": {},
   "source": [
    "# ARIMA Model"
   ]
  },
  {
   "cell_type": "code",
   "execution_count": 52,
   "id": "373cdb02",
   "metadata": {},
   "outputs": [
    {
     "name": "stdout",
     "output_type": "stream",
     "text": [
      "Training set length: 20\n",
      "Test set length: 5\n"
     ]
    }
   ],
   "source": [
    "# Split the data into training and test sets\n",
    "train_size = int(len(sales_data) * 0.8)\n",
    "train, test = sales_data[0:train_size], sales_data[train_size:]\n",
    "\n",
    "print(f'Training set length: {len(train)}')\n",
    "print(f'Test set length: {len(test)}')"
   ]
  },
  {
   "cell_type": "code",
   "execution_count": 53,
   "id": "09029156",
   "metadata": {},
   "outputs": [
    {
     "name": "stdout",
     "output_type": "stream",
     "text": [
      "                               SARIMAX Results                                \n",
      "==============================================================================\n",
      "Dep. Variable:             TotalPrice   No. Observations:                   20\n",
      "Model:                 ARIMA(5, 1, 0)   Log Likelihood                -252.531\n",
      "Date:                Mon, 10 Jun 2024   AIC                            517.063\n",
      "Time:                        16:26:24   BIC                            522.729\n",
      "Sample:                    12-01-2009   HQIC                           518.022\n",
      "                         - 07-01-2011                                         \n",
      "Covariance Type:                  opg                                         \n",
      "==============================================================================\n",
      "                 coef    std err          z      P>|z|      [0.025      0.975]\n",
      "------------------------------------------------------------------------------\n",
      "ar.L1         -0.0761      0.186     -0.410      0.682      -0.440       0.288\n",
      "ar.L2         -0.1715      0.212     -0.807      0.420      -0.588       0.245\n",
      "ar.L3         -0.0169      0.159     -0.107      0.915      -0.328       0.294\n",
      "ar.L4         -0.2457      0.224     -1.099      0.272      -0.684       0.193\n",
      "ar.L5         -0.0895      0.275     -0.325      0.745      -0.629       0.450\n",
      "sigma2      1.979e+10   4.37e-12   4.52e+21      0.000    1.98e+10    1.98e+10\n",
      "===================================================================================\n",
      "Ljung-Box (L1) (Q):                   0.91   Jarque-Bera (JB):                 0.85\n",
      "Prob(Q):                              0.34   Prob(JB):                         0.65\n",
      "Heteroskedasticity (H):               2.24   Skew:                            -0.31\n",
      "Prob(H) (two-sided):                  0.35   Kurtosis:                         2.17\n",
      "===================================================================================\n",
      "\n",
      "Warnings:\n",
      "[1] Covariance matrix calculated using the outer product of gradients (complex-step).\n",
      "[2] Covariance matrix is singular or near-singular, with condition number 1.72e+37. Standard errors may be unstable.\n"
     ]
    }
   ],
   "source": [
    "# Build and train the ARIMA model\n",
    "model = ARIMA(train, order=(5, 1, 0))\n",
    "model_fit = model.fit()\n",
    "\n",
    "# Print the model summary\n",
    "print(model_fit.summary())"
   ]
  },
  {
   "cell_type": "code",
   "execution_count": 54,
   "id": "71d4785a",
   "metadata": {},
   "outputs": [
    {
     "data": {
      "image/png": "[encoded data removed]",
      "text/plain": [
       "<Figure size 1000x400 with 1 Axes>"
      ]
     },
     "metadata": {},
     "output_type": "display_data"
    },
    {
     "name": "stdout",
     "output_type": "stream",
     "text": [
      "Mean Squared Error: 132378005887.88477\n"
     ]
    }
   ],
   "source": [
    "# Forecast the future sales\n",
    "forecast = model_fit.forecast(steps=len(test))\n",
    "\n",
    "# Plot the forecast against the actual sales\n",
    "plt.figure(figsize=(10, 4))\n",
    "plt.plot(train.index, train, label='Training Data')\n",
    "plt.plot(test.index, test, label='Test Data')\n",
    "plt.plot(test.index, forecast, label='Forecast', color='red')\n",
    "plt.title('Sales Forecast vs Actual Sales')\n",
    "plt.xlabel('Date')\n",
    "plt.ylabel('Sales')\n",
    "plt.legend()\n",
    "plt.show()\n",
    "\n",
    "# Evaluate the model\n",
    "mse = mean_squared_error(test, forecast)\n",
    "print(f'Mean Squared Error: {mse}')\n"
   ]
  },
  {
   "cell_type": "markdown",
   "id": "0d7ac156",
   "metadata": {},
   "source": [
    "ARIMA model wouldn't be ideal for the data because it exhibits seasonality\n"
   ]
  },
  {
   "cell_type": "markdown",
   "id": "dc06aa65",
   "metadata": {},
   "source": [
    "# SARIMAX Model"
   ]
  },
  {
   "cell_type": "code",
   "execution_count": 55,
   "id": "2abb03e4",
   "metadata": {},
   "outputs": [
    {
     "data": {
      "image/png": "[encoded data removed]",
      "text/plain": [
       "<Figure size 1000x400 with 1 Axes>"
      ]
     },
     "metadata": {},
     "output_type": "display_data"
    }
   ],
   "source": [
    "import matplotlib.pyplot as plt\n",
    "\n",
    "# Plot the sales data\n",
    "plt.figure(figsize=(10, 4))\n",
    "plt.plot(sales_data, label='Sales')\n",
    "plt.title('Monthly Sales Data')\n",
    "plt.xlabel('Date')\n",
    "plt.ylabel('Sales')\n",
    "plt.legend()\n",
    "plt.show()\n"
   ]
  },
  {
   "cell_type": "code",
   "execution_count": 65,
   "id": "0f9f7b3f",
   "metadata": {},
   "outputs": [
    {
     "name": "stdout",
     "output_type": "stream",
     "text": [
      "Examples of parameter combinations for Seasonal ARIMA...\n",
      "SARIMAX: (0, 0, 1) x (0, 0, 1, 12)\n",
      "SARIMAX: (0, 0, 1) x (0, 1, 0, 12)\n",
      "SARIMAX: (0, 1, 0) x (0, 1, 1, 12)\n",
      "SARIMAX: (0, 1, 0) x (1, 0, 0, 12)\n"
     ]
    }
   ],
   "source": [
    "import itertools\n",
    "\n",
    "p = d = q = range(0, 2)\n",
    "pdq = list(itertools.product(p, d, q))\n",
    "seasonal_pdq = [(x[0], x[1], x[2], 12) for x in list(itertools.product(p, d, q))]\n",
    "print('Examples of parameter combinations for Seasonal ARIMA...')\n",
    "print('SARIMAX: {} x {}'.format(pdq[1], seasonal_pdq[1]))\n",
    "print('SARIMAX: {} x {}'.format(pdq[1], seasonal_pdq[2]))\n",
    "print('SARIMAX: {} x {}'.format(pdq[2], seasonal_pdq[3]))\n",
    "print('SARIMAX: {} x {}'.format(pdq[2], seasonal_pdq[4]))"
   ]
  },
  {
   "cell_type": "code",
   "execution_count": 68,
   "id": "011adebb",
   "metadata": {},
   "outputs": [
    {
     "name": "stdout",
     "output_type": "stream",
     "text": [
      "Trying SARIMAX with parameters: order=(0, 0, 0), seasonal_order=(0, 0, 0, 12)\n",
      "ARIMA(0, 0, 0)x(0, 0, 0, 12)12 - AIC:718.7358515537034\n",
      "Trying SARIMAX with parameters: order=(0, 0, 0), seasonal_order=(0, 0, 1, 12)\n",
      "ARIMA(0, 0, 0)x(0, 0, 1, 12)12 - AIC:323.4664379610967\n",
      "Trying SARIMAX with parameters: order=(0, 0, 0), seasonal_order=(0, 1, 0, 12)\n",
      "ARIMA(0, 0, 0)x(0, 1, 0, 12)12 - AIC:319.72747910913125\n",
      "Trying SARIMAX with parameters: order=(0, 0, 0), seasonal_order=(0, 1, 1, 12)\n",
      "ARIMA(0, 0, 0)x(0, 1, 1, 12)12 - AIC:4.0\n",
      "Trying SARIMAX with parameters: order=(0, 0, 0), seasonal_order=(1, 0, 0, 12)\n",
      "ARIMA(0, 0, 0)x(1, 0, 0, 12)12 - AIC:347.1025404601491\n",
      "Trying SARIMAX with parameters: order=(0, 0, 0), seasonal_order=(1, 0, 1, 12)\n"
     ]
    },
    {
     "name": "stderr",
     "output_type": "stream",
     "text": [
      "C:\\Users\\Imart\\anaconda3\\Lib\\site-packages\\statsmodels\\tsa\\statespace\\sarimax.py:866: UserWarning: Too few observations to estimate starting parameters for seasonal ARMA. All parameters except for variances will be set to zeros.\n",
      "  warn('Too few observations to estimate starting parameters%s.'\n",
      "C:\\Users\\Imart\\anaconda3\\Lib\\site-packages\\statsmodels\\tsa\\statespace\\sarimax.py:866: UserWarning: Too few observations to estimate starting parameters for seasonal ARMA. All parameters except for variances will be set to zeros.\n",
      "  warn('Too few observations to estimate starting parameters%s.'\n",
      "C:\\Users\\Imart\\anaconda3\\Lib\\site-packages\\statsmodels\\tsa\\statespace\\mlemodel.py:1234: RuntimeWarning: invalid value encountered in divide\n",
      "  np.inner(score_obs, score_obs) /\n",
      "C:\\Users\\Imart\\anaconda3\\Lib\\site-packages\\statsmodels\\tsa\\statespace\\sarimax.py:866: UserWarning: Too few observations to estimate starting parameters for seasonal ARMA. All parameters except for variances will be set to zeros.\n",
      "  warn('Too few observations to estimate starting parameters%s.'\n"
     ]
    },
    {
     "name": "stdout",
     "output_type": "stream",
     "text": [
      "ARIMA(0, 0, 0)x(1, 0, 1, 12)12 - AIC:323.4420197877864\n",
      "Trying SARIMAX with parameters: order=(0, 0, 0), seasonal_order=(1, 1, 0, 12)\n",
      "ARIMA(0, 0, 0)x(1, 1, 0, 12)12 - AIC:29.400072684898642\n",
      "Trying SARIMAX with parameters: order=(0, 0, 0), seasonal_order=(1, 1, 1, 12)\n",
      "ARIMA(0, 0, 0)x(1, 1, 1, 12)12 - AIC:6.0\n",
      "Trying SARIMAX with parameters: order=(0, 0, 1), seasonal_order=(0, 0, 0, 12)\n",
      "ARIMA(0, 0, 1)x(0, 0, 0, 12)12 - AIC:673.544047374617\n",
      "Trying SARIMAX with parameters: order=(0, 0, 1), seasonal_order=(0, 0, 1, 12)\n",
      "ARIMA(0, 0, 1)x(0, 0, 1, 12)12 - AIC:345.0829980876578\n",
      "Trying SARIMAX with parameters: order=(0, 0, 1), seasonal_order=(0, 1, 0, 12)\n"
     ]
    },
    {
     "name": "stderr",
     "output_type": "stream",
     "text": [
      "C:\\Users\\Imart\\anaconda3\\Lib\\site-packages\\statsmodels\\tsa\\statespace\\sarimax.py:866: UserWarning: Too few observations to estimate starting parameters for seasonal ARMA. All parameters except for variances will be set to zeros.\n",
      "  warn('Too few observations to estimate starting parameters%s.'\n",
      "C:\\Users\\Imart\\anaconda3\\Lib\\site-packages\\statsmodels\\tsa\\statespace\\mlemodel.py:1234: RuntimeWarning: invalid value encountered in divide\n",
      "  np.inner(score_obs, score_obs) /\n",
      "C:\\Users\\Imart\\anaconda3\\Lib\\site-packages\\statsmodels\\tsa\\statespace\\sarimax.py:866: UserWarning: Too few observations to estimate starting parameters for seasonal ARMA. All parameters except for variances will be set to zeros.\n",
      "  warn('Too few observations to estimate starting parameters%s.'\n"
     ]
    },
    {
     "name": "stdout",
     "output_type": "stream",
     "text": [
      "ARIMA(0, 0, 1)x(0, 1, 0, 12)12 - AIC:294.0127154385415\n",
      "Trying SARIMAX with parameters: order=(0, 0, 1), seasonal_order=(0, 1, 1, 12)\n",
      "ARIMA(0, 0, 1)x(0, 1, 1, 12)12 - AIC:6.0\n",
      "Trying SARIMAX with parameters: order=(0, 0, 1), seasonal_order=(1, 0, 0, 12)\n",
      "ARIMA(0, 0, 1)x(1, 0, 0, 12)12 - AIC:411.7877043923743\n",
      "Trying SARIMAX with parameters: order=(0, 0, 1), seasonal_order=(1, 0, 1, 12)\n"
     ]
    },
    {
     "name": "stderr",
     "output_type": "stream",
     "text": [
      "C:\\Users\\Imart\\anaconda3\\Lib\\site-packages\\statsmodels\\tsa\\statespace\\sarimax.py:866: UserWarning: Too few observations to estimate starting parameters for seasonal ARMA. All parameters except for variances will be set to zeros.\n",
      "  warn('Too few observations to estimate starting parameters%s.'\n",
      "C:\\Users\\Imart\\anaconda3\\Lib\\site-packages\\statsmodels\\tsa\\statespace\\sarimax.py:866: UserWarning: Too few observations to estimate starting parameters for seasonal ARMA. All parameters except for variances will be set to zeros.\n",
      "  warn('Too few observations to estimate starting parameters%s.'\n",
      "C:\\Users\\Imart\\anaconda3\\Lib\\site-packages\\statsmodels\\tsa\\statespace\\sarimax.py:866: UserWarning: Too few observations to estimate starting parameters for seasonal ARMA. All parameters except for variances will be set to zeros.\n",
      "  warn('Too few observations to estimate starting parameters%s.'\n"
     ]
    },
    {
     "name": "stdout",
     "output_type": "stream",
     "text": [
      "ARIMA(0, 0, 1)x(1, 0, 1, 12)12 - AIC:346.8705245711351\n",
      "Trying SARIMAX with parameters: order=(0, 0, 1), seasonal_order=(1, 1, 0, 12)\n",
      "ARIMA(0, 0, 1)x(1, 1, 0, 12)12 - AIC:31.50634191351645\n",
      "Trying SARIMAX with parameters: order=(0, 0, 1), seasonal_order=(1, 1, 1, 12)\n",
      "ARIMA(0, 0, 1)x(1, 1, 1, 12)12 - AIC:8.0\n",
      "Trying SARIMAX with parameters: order=(0, 1, 0), seasonal_order=(0, 0, 0, 12)\n",
      "ARIMA(0, 1, 0)x(0, 0, 0, 12)12 - AIC:630.0490422097773\n",
      "Trying SARIMAX with parameters: order=(0, 1, 0), seasonal_order=(0, 0, 1, 12)\n",
      "ARIMA(0, 1, 0)x(0, 0, 1, 12)12 - AIC:296.80079689663677\n",
      "Trying SARIMAX with parameters: order=(0, 1, 0), seasonal_order=(0, 1, 0, 12)\n",
      "ARIMA(0, 1, 0)x(0, 1, 0, 12)12 - AIC:296.0538757837007\n",
      "Trying SARIMAX with parameters: order=(0, 1, 0), seasonal_order=(0, 1, 1, 12)\n"
     ]
    },
    {
     "name": "stderr",
     "output_type": "stream",
     "text": [
      "C:\\Users\\Imart\\anaconda3\\Lib\\site-packages\\statsmodels\\tsa\\statespace\\sarimax.py:866: UserWarning: Too few observations to estimate starting parameters for seasonal ARMA. All parameters except for variances will be set to zeros.\n",
      "  warn('Too few observations to estimate starting parameters%s.'\n",
      "C:\\Users\\Imart\\anaconda3\\Lib\\site-packages\\statsmodels\\tsa\\statespace\\sarimax.py:866: UserWarning: Too few observations to estimate starting parameters for seasonal ARMA. All parameters except for variances will be set to zeros.\n",
      "  warn('Too few observations to estimate starting parameters%s.'\n",
      "C:\\Users\\Imart\\anaconda3\\Lib\\site-packages\\statsmodels\\tsa\\statespace\\sarimax.py:866: UserWarning: Too few observations to estimate starting parameters for seasonal ARMA. All parameters except for variances will be set to zeros.\n",
      "  warn('Too few observations to estimate starting parameters%s.'\n"
     ]
    },
    {
     "name": "stdout",
     "output_type": "stream",
     "text": [
      "ARIMA(0, 1, 0)x(0, 1, 1, 12)12 - AIC:4.0\n",
      "Trying SARIMAX with parameters: order=(0, 1, 0), seasonal_order=(1, 0, 0, 12)\n",
      "ARIMA(0, 1, 0)x(1, 0, 0, 12)12 - AIC:319.47804615324503\n",
      "Trying SARIMAX with parameters: order=(0, 1, 0), seasonal_order=(1, 0, 1, 12)\n",
      "ARIMA(0, 1, 0)x(1, 0, 1, 12)12 - AIC:297.39435719871807\n",
      "Trying SARIMAX with parameters: order=(0, 1, 0), seasonal_order=(1, 1, 0, 12)\n",
      "ARIMA(0, 1, 0)x(1, 1, 0, 12)12 - AIC:4.0\n",
      "Trying SARIMAX with parameters: order=(0, 1, 0), seasonal_order=(1, 1, 1, 12)\n",
      "ARIMA(0, 1, 0)x(1, 1, 1, 12)12 - AIC:6.0\n",
      "Trying SARIMAX with parameters: order=(0, 1, 1), seasonal_order=(0, 0, 0, 12)\n",
      "ARIMA(0, 1, 1)x(0, 0, 0, 12)12 - AIC:605.5530170120878\n",
      "Trying SARIMAX with parameters: order=(0, 1, 1), seasonal_order=(0, 0, 1, 12)\n"
     ]
    },
    {
     "name": "stderr",
     "output_type": "stream",
     "text": [
      "C:\\Users\\Imart\\anaconda3\\Lib\\site-packages\\statsmodels\\tsa\\statespace\\sarimax.py:866: UserWarning: Too few observations to estimate starting parameters for seasonal ARMA. All parameters except for variances will be set to zeros.\n",
      "  warn('Too few observations to estimate starting parameters%s.'\n",
      "C:\\Users\\Imart\\anaconda3\\Lib\\site-packages\\statsmodels\\tsa\\statespace\\mlemodel.py:1234: RuntimeWarning: invalid value encountered in divide\n",
      "  np.inner(score_obs, score_obs) /\n",
      "C:\\Users\\Imart\\anaconda3\\Lib\\site-packages\\statsmodels\\tsa\\statespace\\sarimax.py:866: UserWarning: Too few observations to estimate starting parameters for seasonal ARMA. All parameters except for variances will be set to zeros.\n",
      "  warn('Too few observations to estimate starting parameters%s.'\n",
      "C:\\Users\\Imart\\anaconda3\\Lib\\site-packages\\statsmodels\\tsa\\statespace\\sarimax.py:866: UserWarning: Too few observations to estimate starting parameters for seasonal ARMA. All parameters except for variances will be set to zeros.\n",
      "  warn('Too few observations to estimate starting parameters%s.'\n"
     ]
    },
    {
     "name": "stdout",
     "output_type": "stream",
     "text": [
      "ARIMA(0, 1, 1)x(0, 0, 1, 12)12 - AIC:273.3768214379132\n",
      "Trying SARIMAX with parameters: order=(0, 1, 1), seasonal_order=(0, 1, 0, 12)\n",
      "ARIMA(0, 1, 1)x(0, 1, 0, 12)12 - AIC:269.41952363829665\n",
      "Trying SARIMAX with parameters: order=(0, 1, 1), seasonal_order=(0, 1, 1, 12)\n",
      "ARIMA(0, 1, 1)x(0, 1, 1, 12)12 - AIC:6.0\n",
      "Trying SARIMAX with parameters: order=(0, 1, 1), seasonal_order=(1, 0, 0, 12)\n"
     ]
    },
    {
     "name": "stderr",
     "output_type": "stream",
     "text": [
      "C:\\Users\\Imart\\anaconda3\\Lib\\site-packages\\statsmodels\\tsa\\statespace\\sarimax.py:866: UserWarning: Too few observations to estimate starting parameters for seasonal ARMA. All parameters except for variances will be set to zeros.\n",
      "  warn('Too few observations to estimate starting parameters%s.'\n",
      "C:\\Users\\Imart\\anaconda3\\Lib\\site-packages\\statsmodels\\tsa\\statespace\\sarimax.py:866: UserWarning: Too few observations to estimate starting parameters for seasonal ARMA. All parameters except for variances will be set to zeros.\n",
      "  warn('Too few observations to estimate starting parameters%s.'\n"
     ]
    },
    {
     "name": "stdout",
     "output_type": "stream",
     "text": [
      "ARIMA(0, 1, 1)x(1, 0, 0, 12)12 - AIC:326.19962083381984\n",
      "Trying SARIMAX with parameters: order=(0, 1, 1), seasonal_order=(1, 0, 1, 12)\n",
      "ARIMA(0, 1, 1)x(1, 0, 1, 12)12 - AIC:274.22493601423844\n",
      "Trying SARIMAX with parameters: order=(0, 1, 1), seasonal_order=(1, 1, 0, 12)\n",
      "ARIMA(0, 1, 1)x(1, 1, 0, 12)12 - AIC:6.0\n",
      "Trying SARIMAX with parameters: order=(0, 1, 1), seasonal_order=(1, 1, 1, 12)\n",
      "ARIMA(0, 1, 1)x(1, 1, 1, 12)12 - AIC:8.0\n",
      "Trying SARIMAX with parameters: order=(1, 0, 0), seasonal_order=(0, 0, 0, 12)\n"
     ]
    },
    {
     "name": "stderr",
     "output_type": "stream",
     "text": [
      "C:\\Users\\Imart\\anaconda3\\Lib\\site-packages\\statsmodels\\tsa\\statespace\\sarimax.py:866: UserWarning: Too few observations to estimate starting parameters for seasonal ARMA. All parameters except for variances will be set to zeros.\n",
      "  warn('Too few observations to estimate starting parameters%s.'\n",
      "C:\\Users\\Imart\\anaconda3\\Lib\\site-packages\\statsmodels\\tsa\\statespace\\mlemodel.py:1234: RuntimeWarning: invalid value encountered in divide\n",
      "  np.inner(score_obs, score_obs) /\n",
      "C:\\Users\\Imart\\anaconda3\\Lib\\site-packages\\statsmodels\\tsa\\statespace\\sarimax.py:866: UserWarning: Too few observations to estimate starting parameters for seasonal ARMA. All parameters except for variances will be set to zeros.\n",
      "  warn('Too few observations to estimate starting parameters%s.'\n",
      "C:\\Users\\Imart\\anaconda3\\Lib\\site-packages\\statsmodels\\tsa\\statespace\\sarimax.py:866: UserWarning: Too few observations to estimate starting parameters for seasonal ARMA. All parameters except for variances will be set to zeros.\n",
      "  warn('Too few observations to estimate starting parameters%s.'\n"
     ]
    },
    {
     "name": "stdout",
     "output_type": "stream",
     "text": [
      "ARIMA(1, 0, 0)x(0, 0, 0, 12)12 - AIC:658.026739255904\n",
      "Trying SARIMAX with parameters: order=(1, 0, 0), seasonal_order=(0, 0, 1, 12)\n",
      "ARIMA(1, 0, 0)x(0, 0, 1, 12)12 - AIC:325.178720308496\n",
      "Trying SARIMAX with parameters: order=(1, 0, 0), seasonal_order=(0, 1, 0, 12)\n",
      "ARIMA(1, 0, 0)x(0, 1, 0, 12)12 - AIC:319.23835729139904\n",
      "Trying SARIMAX with parameters: order=(1, 0, 0), seasonal_order=(0, 1, 1, 12)\n"
     ]
    },
    {
     "name": "stderr",
     "output_type": "stream",
     "text": [
      "C:\\Users\\Imart\\anaconda3\\Lib\\site-packages\\statsmodels\\tsa\\statespace\\sarimax.py:866: UserWarning: Too few observations to estimate starting parameters for seasonal ARMA. All parameters except for variances will be set to zeros.\n",
      "  warn('Too few observations to estimate starting parameters%s.'\n",
      "C:\\Users\\Imart\\anaconda3\\Lib\\site-packages\\statsmodels\\tsa\\statespace\\mlemodel.py:1234: RuntimeWarning: invalid value encountered in divide\n",
      "  np.inner(score_obs, score_obs) /\n",
      "C:\\Users\\Imart\\anaconda3\\Lib\\site-packages\\statsmodels\\tsa\\statespace\\sarimax.py:866: UserWarning: Too few observations to estimate starting parameters for seasonal ARMA. All parameters except for variances will be set to zeros.\n",
      "  warn('Too few observations to estimate starting parameters%s.'\n"
     ]
    },
    {
     "name": "stdout",
     "output_type": "stream",
     "text": [
      "ARIMA(1, 0, 0)x(0, 1, 1, 12)12 - AIC:6.0\n",
      "Trying SARIMAX with parameters: order=(1, 0, 0), seasonal_order=(1, 0, 0, 12)\n",
      "ARIMA(1, 0, 0)x(1, 0, 0, 12)12 - AIC:324.8470187074679\n",
      "Trying SARIMAX with parameters: order=(1, 0, 0), seasonal_order=(1, 0, 1, 12)\n",
      "ARIMA(1, 0, 0)x(1, 0, 1, 12)12 - AIC:325.1273594623432\n",
      "Trying SARIMAX with parameters: order=(1, 0, 0), seasonal_order=(1, 1, 0, 12)\n"
     ]
    },
    {
     "name": "stderr",
     "output_type": "stream",
     "text": [
      "C:\\Users\\Imart\\anaconda3\\Lib\\site-packages\\statsmodels\\tsa\\statespace\\mlemodel.py:1234: RuntimeWarning: invalid value encountered in divide\n",
      "  np.inner(score_obs, score_obs) /\n",
      "C:\\Users\\Imart\\anaconda3\\Lib\\site-packages\\statsmodels\\tsa\\statespace\\sarimax.py:866: UserWarning: Too few observations to estimate starting parameters for seasonal ARMA. All parameters except for variances will be set to zeros.\n",
      "  warn('Too few observations to estimate starting parameters%s.'\n",
      "C:\\Users\\Imart\\anaconda3\\Lib\\site-packages\\statsmodels\\tsa\\statespace\\mlemodel.py:1234: RuntimeWarning: invalid value encountered in divide\n",
      "  np.inner(score_obs, score_obs) /\n",
      "C:\\Users\\Imart\\anaconda3\\Lib\\site-packages\\statsmodels\\tsa\\statespace\\sarimax.py:866: UserWarning: Too few observations to estimate starting parameters for seasonal ARMA. All parameters except for variances will be set to zeros.\n",
      "  warn('Too few observations to estimate starting parameters%s.'\n"
     ]
    },
    {
     "name": "stdout",
     "output_type": "stream",
     "text": [
      "ARIMA(1, 0, 0)x(1, 1, 0, 12)12 - AIC:6.0\n",
      "Trying SARIMAX with parameters: order=(1, 0, 0), seasonal_order=(1, 1, 1, 12)\n",
      "ARIMA(1, 0, 0)x(1, 1, 1, 12)12 - AIC:8.0\n",
      "Trying SARIMAX with parameters: order=(1, 0, 1), seasonal_order=(0, 0, 0, 12)\n",
      "ARIMA(1, 0, 1)x(0, 0, 0, 12)12 - AIC:633.2494527725748\n",
      "Trying SARIMAX with parameters: order=(1, 0, 1), seasonal_order=(0, 0, 1, 12)\n",
      "ARIMA(1, 0, 1)x(0, 0, 1, 12)12 - AIC:301.28275010582735\n",
      "Trying SARIMAX with parameters: order=(1, 0, 1), seasonal_order=(0, 1, 0, 12)\n",
      "ARIMA(1, 0, 1)x(0, 1, 0, 12)12 - AIC:295.7923910909407\n",
      "Trying SARIMAX with parameters: order=(1, 0, 1), seasonal_order=(0, 1, 1, 12)\n",
      "ARIMA(1, 0, 1)x(0, 1, 1, 12)12 - AIC:8.0\n",
      "Trying SARIMAX with parameters: order=(1, 0, 1), seasonal_order=(1, 0, 0, 12)\n"
     ]
    },
    {
     "name": "stderr",
     "output_type": "stream",
     "text": [
      "C:\\Users\\Imart\\anaconda3\\Lib\\site-packages\\statsmodels\\tsa\\statespace\\sarimax.py:866: UserWarning: Too few observations to estimate starting parameters for seasonal ARMA. All parameters except for variances will be set to zeros.\n",
      "  warn('Too few observations to estimate starting parameters%s.'\n",
      "C:\\Users\\Imart\\anaconda3\\Lib\\site-packages\\statsmodels\\tsa\\statespace\\sarimax.py:866: UserWarning: Too few observations to estimate starting parameters for seasonal ARMA. All parameters except for variances will be set to zeros.\n",
      "  warn('Too few observations to estimate starting parameters%s.'\n"
     ]
    },
    {
     "name": "stdout",
     "output_type": "stream",
     "text": [
      "ARIMA(1, 0, 1)x(1, 0, 0, 12)12 - AIC:327.0362210563191\n",
      "Trying SARIMAX with parameters: order=(1, 0, 1), seasonal_order=(1, 0, 1, 12)\n",
      "ARIMA(1, 0, 1)x(1, 0, 1, 12)12 - AIC:301.4152535612543\n",
      "Trying SARIMAX with parameters: order=(1, 0, 1), seasonal_order=(1, 1, 0, 12)\n",
      "ARIMA(1, 0, 1)x(1, 1, 0, 12)12 - AIC:8.0\n",
      "Trying SARIMAX with parameters: order=(1, 0, 1), seasonal_order=(1, 1, 1, 12)\n",
      "ARIMA(1, 0, 1)x(1, 1, 1, 12)12 - AIC:10.0\n",
      "Trying SARIMAX with parameters: order=(1, 1, 0), seasonal_order=(0, 0, 0, 12)\n",
      "ARIMA(1, 1, 0)x(0, 0, 0, 12)12 - AIC:631.9161886412478\n",
      "Trying SARIMAX with parameters: order=(1, 1, 0), seasonal_order=(0, 0, 1, 12)\n"
     ]
    },
    {
     "name": "stderr",
     "output_type": "stream",
     "text": [
      "C:\\Users\\Imart\\anaconda3\\Lib\\site-packages\\statsmodels\\tsa\\statespace\\mlemodel.py:1234: RuntimeWarning: invalid value encountered in divide\n",
      "  np.inner(score_obs, score_obs) /\n",
      "C:\\Users\\Imart\\anaconda3\\Lib\\site-packages\\statsmodels\\tsa\\statespace\\sarimax.py:866: UserWarning: Too few observations to estimate starting parameters for seasonal ARMA. All parameters except for variances will be set to zeros.\n",
      "  warn('Too few observations to estimate starting parameters%s.'\n",
      "C:\\Users\\Imart\\anaconda3\\Lib\\site-packages\\statsmodels\\tsa\\statespace\\sarimax.py:866: UserWarning: Too few observations to estimate starting parameters for seasonal ARMA. All parameters except for variances will be set to zeros.\n",
      "  warn('Too few observations to estimate starting parameters%s.'\n"
     ]
    },
    {
     "name": "stdout",
     "output_type": "stream",
     "text": [
      "ARIMA(1, 1, 0)x(0, 0, 1, 12)12 - AIC:299.06735733469327\n",
      "Trying SARIMAX with parameters: order=(1, 1, 0), seasonal_order=(0, 1, 0, 12)\n",
      "ARIMA(1, 1, 0)x(0, 1, 0, 12)12 - AIC:295.0127621915229\n",
      "Trying SARIMAX with parameters: order=(1, 1, 0), seasonal_order=(0, 1, 1, 12)\n"
     ]
    },
    {
     "name": "stderr",
     "output_type": "stream",
     "text": [
      "C:\\Users\\Imart\\anaconda3\\Lib\\site-packages\\statsmodels\\tsa\\statespace\\sarimax.py:866: UserWarning: Too few observations to estimate starting parameters for seasonal ARMA. All parameters except for variances will be set to zeros.\n",
      "  warn('Too few observations to estimate starting parameters%s.'\n",
      "C:\\Users\\Imart\\anaconda3\\Lib\\site-packages\\statsmodels\\tsa\\statespace\\sarimax.py:866: UserWarning: Too few observations to estimate starting parameters for seasonal ARMA. All parameters except for variances will be set to zeros.\n",
      "  warn('Too few observations to estimate starting parameters%s.'\n",
      "C:\\Users\\Imart\\anaconda3\\Lib\\site-packages\\statsmodels\\tsa\\statespace\\sarimax.py:866: UserWarning: Too few observations to estimate starting parameters for seasonal ARMA. All parameters except for variances will be set to zeros.\n",
      "  warn('Too few observations to estimate starting parameters%s.'\n"
     ]
    },
    {
     "name": "stdout",
     "output_type": "stream",
     "text": [
      "ARIMA(1, 1, 0)x(0, 1, 1, 12)12 - AIC:6.0\n",
      "Trying SARIMAX with parameters: order=(1, 1, 0), seasonal_order=(1, 0, 0, 12)\n",
      "ARIMA(1, 1, 0)x(1, 0, 0, 12)12 - AIC:299.0670042951362\n",
      "Trying SARIMAX with parameters: order=(1, 1, 0), seasonal_order=(1, 0, 1, 12)\n",
      "ARIMA(1, 1, 0)x(1, 0, 1, 12)12 - AIC:299.87560394483916\n",
      "Trying SARIMAX with parameters: order=(1, 1, 0), seasonal_order=(1, 1, 0, 12)\n",
      "ARIMA(1, 1, 0)x(1, 1, 0, 12)12 - AIC:6.0\n",
      "Trying SARIMAX with parameters: order=(1, 1, 0), seasonal_order=(1, 1, 1, 12)\n",
      "ARIMA(1, 1, 0)x(1, 1, 1, 12)12 - AIC:8.0\n",
      "Trying SARIMAX with parameters: order=(1, 1, 1), seasonal_order=(0, 0, 0, 12)\n"
     ]
    },
    {
     "name": "stderr",
     "output_type": "stream",
     "text": [
      "C:\\Users\\Imart\\anaconda3\\Lib\\site-packages\\statsmodels\\tsa\\statespace\\sarimax.py:866: UserWarning: Too few observations to estimate starting parameters for seasonal ARMA. All parameters except for variances will be set to zeros.\n",
      "  warn('Too few observations to estimate starting parameters%s.'\n",
      "C:\\Users\\Imart\\anaconda3\\Lib\\site-packages\\statsmodels\\tsa\\statespace\\sarimax.py:866: UserWarning: Too few observations to estimate starting parameters for seasonal ARMA. All parameters except for variances will be set to zeros.\n",
      "  warn('Too few observations to estimate starting parameters%s.'\n"
     ]
    },
    {
     "name": "stdout",
     "output_type": "stream",
     "text": [
      "ARIMA(1, 1, 1)x(0, 0, 0, 12)12 - AIC:607.7278865800718\n",
      "Trying SARIMAX with parameters: order=(1, 1, 1), seasonal_order=(0, 0, 1, 12)\n",
      "ARIMA(1, 1, 1)x(0, 0, 1, 12)12 - AIC:288.2867160090555\n",
      "Trying SARIMAX with parameters: order=(1, 1, 1), seasonal_order=(0, 1, 0, 12)\n",
      "ARIMA(1, 1, 1)x(0, 1, 0, 12)12 - AIC:268.56374356148837\n",
      "Trying SARIMAX with parameters: order=(1, 1, 1), seasonal_order=(0, 1, 1, 12)\n",
      "ARIMA(1, 1, 1)x(0, 1, 1, 12)12 - AIC:8.0\n",
      "Trying SARIMAX with parameters: order=(1, 1, 1), seasonal_order=(1, 0, 0, 12)\n",
      "ARIMA(1, 1, 1)x(1, 0, 0, 12)12 - AIC:316.64861290088345\n",
      "Trying SARIMAX with parameters: order=(1, 1, 1), seasonal_order=(1, 0, 1, 12)\n"
     ]
    },
    {
     "name": "stderr",
     "output_type": "stream",
     "text": [
      "C:\\Users\\Imart\\anaconda3\\Lib\\site-packages\\statsmodels\\tsa\\statespace\\sarimax.py:866: UserWarning: Too few observations to estimate starting parameters for seasonal ARMA. All parameters except for variances will be set to zeros.\n",
      "  warn('Too few observations to estimate starting parameters%s.'\n",
      "C:\\Users\\Imart\\anaconda3\\Lib\\site-packages\\statsmodels\\tsa\\statespace\\sarimax.py:866: UserWarning: Too few observations to estimate starting parameters for seasonal ARMA. All parameters except for variances will be set to zeros.\n",
      "  warn('Too few observations to estimate starting parameters%s.'\n"
     ]
    },
    {
     "name": "stdout",
     "output_type": "stream",
     "text": [
      "ARIMA(1, 1, 1)x(1, 0, 1, 12)12 - AIC:289.80210491334327\n",
      "Trying SARIMAX with parameters: order=(1, 1, 1), seasonal_order=(1, 1, 0, 12)\n",
      "ARIMA(1, 1, 1)x(1, 1, 0, 12)12 - AIC:8.0\n",
      "Trying SARIMAX with parameters: order=(1, 1, 1), seasonal_order=(1, 1, 1, 12)\n",
      "ARIMA(1, 1, 1)x(1, 1, 1, 12)12 - AIC:10.0\n"
     ]
    },
    {
     "name": "stderr",
     "output_type": "stream",
     "text": [
      "C:\\Users\\Imart\\anaconda3\\Lib\\site-packages\\statsmodels\\tsa\\statespace\\sarimax.py:866: UserWarning: Too few observations to estimate starting parameters for seasonal ARMA. All parameters except for variances will be set to zeros.\n",
      "  warn('Too few observations to estimate starting parameters%s.'\n",
      "C:\\Users\\Imart\\anaconda3\\Lib\\site-packages\\statsmodels\\tsa\\statespace\\sarimax.py:866: UserWarning: Too few observations to estimate starting parameters for seasonal ARMA. All parameters except for variances will be set to zeros.\n",
      "  warn('Too few observations to estimate starting parameters%s.'\n"
     ]
    }
   ],
   "source": [
    "import itertools\n",
    "import pandas as pd\n",
    "import statsmodels.api as sm\n",
    "\n",
    "# Example sales_data\n",
    "# Assuming sales_data is a pandas Series\n",
    "# sales_data = pd.Series(...)\n",
    "\n",
    "# Define the p, d, and q parameters to take any value between 0 and 1\n",
    "p = d = q = range(0, 2)\n",
    "pdq = list(itertools.product(p, d, q))\n",
    "\n",
    "# Define the seasonal p, d, and q parameters to take any value between 0 and 1\n",
    "seasonal_pdq = [(x[0], x[1], x[2], 12) for x in pdq]\n",
    "\n",
    "for param in pdq:\n",
    "    for param_seasonal in seasonal_pdq:\n",
    "        try:\n",
    "            print(f\"Trying SARIMAX with parameters: order={param}, seasonal_order={param_seasonal}\")\n",
    "            mod = sm.tsa.statespace.SARIMAX(sales_data,\n",
    "                                            order=param,\n",
    "                                            seasonal_order=param_seasonal,\n",
    "                                            enforce_stationarity=False,\n",
    "                                            enforce_invertibility=False)\n",
    "            results = mod.fit()\n",
    "            print('ARIMA{}x{}12 - AIC:{}'.format(param, param_seasonal, results.aic))\n",
    "        except Exception as e:\n",
    "            print(f\"Error with parameters: order={param}, seasonal_order={param_seasonal}. Error: {e}\")\n",
    "            continue\n"
   ]
  },
  {
   "cell_type": "markdown",
   "id": "6728943a",
   "metadata": {},
   "source": [
    "The above output suggests that SARIMAX(0, 0, 0)x(1, 1, 1, 12) yields the lowest AIC value of 297.78. Therefore we should consider this to be optimal option."
   ]
  },
  {
   "cell_type": "code",
   "execution_count": 69,
   "id": "534c23c9",
   "metadata": {},
   "outputs": [],
   "source": [
    "# Split the data into training and test sets\n",
    "train_size = int(len(sales_data) * 0.8)\n",
    "train, test = sales_data[0:train_size], sales_data[train_size:]\n"
   ]
  },
  {
   "cell_type": "markdown",
   "id": "5c2f8e68",
   "metadata": {},
   "source": [
    "Fitting in the model"
   ]
  },
  {
   "cell_type": "code",
   "execution_count": 70,
   "id": "266fa7dc",
   "metadata": {},
   "outputs": [
    {
     "name": "stdout",
     "output_type": "stream",
     "text": [
      "                                 SARIMAX Results                                  \n",
      "==================================================================================\n",
      "Dep. Variable:                 TotalPrice   No. Observations:                   20\n",
      "Model:             SARIMAX(0, 1, [1], 12)   Log Likelihood                   0.000\n",
      "Date:                    Mon, 10 Jun 2024   AIC                              4.000\n",
      "Time:                            16:44:09   BIC                                nan\n",
      "Sample:                        12-01-2009   HQIC                               nan\n",
      "                             - 07-01-2011                                         \n",
      "Covariance Type:                      opg                                         \n",
      "==============================================================================\n",
      "                 coef    std err          z      P>|z|      [0.025      0.975]\n",
      "------------------------------------------------------------------------------\n",
      "ma.S.L12            0         -0        nan        nan           0           0\n",
      "sigma2      8.363e+09         -0       -inf      0.000    8.36e+09    8.36e+09\n",
      "===================================================================================\n",
      "Ljung-Box (L1) (Q):                    nan   Jarque-Bera (JB):                  nan\n",
      "Prob(Q):                               nan   Prob(JB):                          nan\n",
      "Heteroskedasticity (H):                nan   Skew:                              nan\n",
      "Prob(H) (two-sided):                   nan   Kurtosis:                          nan\n",
      "===================================================================================\n",
      "\n",
      "Warnings:\n",
      "[1] Covariance matrix calculated using the outer product of gradients (complex-step).\n",
      "[2] Covariance matrix is singular or near-singular, with condition number    inf. Standard errors may be unstable.\n"
     ]
    },
    {
     "name": "stderr",
     "output_type": "stream",
     "text": [
      "C:\\Users\\Imart\\anaconda3\\Lib\\site-packages\\statsmodels\\tsa\\statespace\\sarimax.py:866: UserWarning: Too few observations to estimate starting parameters for seasonal ARMA. All parameters except for variances will be set to zeros.\n",
      "  warn('Too few observations to estimate starting parameters%s.'\n",
      "C:\\Users\\Imart\\anaconda3\\Lib\\site-packages\\statsmodels\\tools\\eval_measures.py:415: RuntimeWarning: invalid value encountered in log\n",
      "  return -2.0 * llf + np.log(nobs) * df_modelwc\n",
      "C:\\Users\\Imart\\anaconda3\\Lib\\site-packages\\statsmodels\\tools\\eval_measures.py:440: RuntimeWarning: invalid value encountered in log\n",
      "  return -2.0 * llf + 2 * np.log(np.log(nobs)) * df_modelwc\n",
      "C:\\Users\\Imart\\anaconda3\\Lib\\site-packages\\statsmodels\\tsa\\statespace\\mlemodel.py:3015: RuntimeWarning: divide by zero encountered in divide\n",
      "  return self.params / self.bse\n",
      "C:\\Users\\Imart\\anaconda3\\Lib\\site-packages\\statsmodels\\tsa\\statespace\\mlemodel.py:3015: RuntimeWarning: invalid value encountered in divide\n",
      "  return self.params / self.bse\n",
      "C:\\Users\\Imart\\anaconda3\\Lib\\site-packages\\statsmodels\\tsa\\stattools.py:470: RuntimeWarning: Mean of empty slice.\n",
      "  xo = x - x.mean()\n",
      "C:\\Users\\Imart\\anaconda3\\Lib\\site-packages\\numpy\\core\\_methods.py:192: RuntimeWarning: invalid value encountered in scalar divide\n",
      "  ret = ret.dtype.type(ret / rcount)\n"
     ]
    }
   ],
   "source": [
    "from statsmodels.tsa.statespace.sarimax import SARIMAX\n",
    "\n",
    "# Define the SARIMA model\n",
    "model = SARIMAX(train, \n",
    "                order=(0, 0, 0), \n",
    "                seasonal_order=(0, 1, 1, 12), \n",
    "                enforce_stationarity=False, \n",
    "                enforce_invertibility=False)\n",
    "model_fit = model.fit(disp=False)\n",
    "\n",
    "# Print the model summary\n",
    "print(model_fit.summary())\n"
   ]
  },
  {
   "cell_type": "code",
   "execution_count": 71,
   "id": "95990dca",
   "metadata": {},
   "outputs": [
    {
     "data": {
      "image/png": "[encoded data removed]",
      "text/plain": [
       "<Figure size 1000x400 with 1 Axes>"
      ]
     },
     "metadata": {},
     "output_type": "display_data"
    },
    {
     "name": "stdout",
     "output_type": "stream",
     "text": [
      "Mean Squared Error: 29813594888.27671\n"
     ]
    }
   ],
   "source": [
    "# Forecast the future sales\n",
    "forecast = model_fit.get_forecast(steps=len(test))\n",
    "forecast_index = test.index\n",
    "forecast_values = forecast.predicted_mean\n",
    "\n",
    "# Plot the forecast against the actual sales\n",
    "plt.figure(figsize=(10, 4))\n",
    "plt.plot(train.index, train, label='Training Data')\n",
    "plt.plot(test.index, test, label='Test Data')\n",
    "plt.plot(forecast_index, forecast_values, label='Forecast', color='red')\n",
    "plt.title('Sales Forecast vs Actual Sales')\n",
    "plt.xlabel('Date')\n",
    "plt.ylabel('Sales')\n",
    "plt.legend()\n",
    "plt.show()\n",
    "\n",
    "# Evaluate the model\n",
    "from sklearn.metrics import mean_squared_error\n",
    "mse = mean_squared_error(test, forecast_values)\n",
    "print(f'Mean Squared Error: {mse}')\n"
   ]
  },
  {
   "cell_type": "markdown",
   "id": "fa8680f0",
   "metadata": {},
   "source": [
    "SARIMAX model would be ideal for the data "
   ]
  },
  {
   "cell_type": "code",
   "execution_count": 59,
   "id": "35fae353",
   "metadata": {},
   "outputs": [
    {
     "name": "stdout",
     "output_type": "stream",
     "text": [
      "ADF Statistic: -4.247978796240201\n",
      "p-value: 0.0005459490019995698\n",
      "Critical Value (1%): -3.924\n",
      "Critical Value (5%): -3.068\n",
      "Critical Value (10%): -2.674\n"
     ]
    }
   ],
   "source": [
    "from statsmodels.tsa.stattools import adfuller\n",
    "\n",
    "# Perform ADF test\n",
    "result = adfuller(sales_data['TotalPrice'])\n",
    "print('ADF Statistic:', result[0])\n",
    "print('p-value:', result[1])\n",
    "for key, value in result[4].items():\n",
    "    print('Critical Value (%s): %.3f' % (key, value))\n"
   ]
  },
  {
   "cell_type": "markdown",
   "id": "ca79c47c",
   "metadata": {},
   "source": [
    "Directly applying SARIMAX to the data in the graph you sent might result in inaccurate forecasts because the data appears to be non-stationary. Time series data is considered stationary if its statistical properties, like mean, variance, and covariance, are constant over time. In the graph, the sales data clearly shows a seasonal pattern, with sales rising and falling throughout the year. This seasonality makes the data non-stationary."
   ]
  },
  {
   "cell_type": "markdown",
   "id": "8f317510",
   "metadata": {},
   "source": [
    "Null Hypothesis (H0): Series is non-stationary\n",
    "Alternate Hypothesis (HA): Series is stationary\n",
    "p-value >0.05 Fail to reject (H0)\n",
    "p-value <= 0.05 Accept (H1)\n",
    "Note: Here 0.0005459490019995698<0.05 Accept (H1)  data Stationary"
   ]
  },
  {
   "cell_type": "code",
   "execution_count": null,
   "id": "01b6beb9",
   "metadata": {},
   "outputs": [],
   "source": [
    "# Differencing\n",
    "sales_data_diff = sales_data.diff().dropna()\n",
    "\n",
    "# Plot differenced data\n",
    "plt.figure(figsize=(10, 4))\n",
    "plt.plot(sales_data_diff, label='Differenced Sales')\n",
    "plt.title('Differenced Monthly Sales Data')\n",
    "plt.xlabel('Date')\n",
    "plt.ylabel('Differenced Sales')\n",
    "plt.legend()\n",
    "plt.show()\n",
    "\n",
    "# Perform ADF test on differenced data\n",
    "result_diff = adfuller(sales_data_diff['TotalPrice'])\n",
    "print('ADF Statistic (Differenced Data):', result_diff[0])\n",
    "print('p-value (Differenced Data):', result_diff[1])\n",
    "for key, value in result_diff[4].items():\n",
    "    print('Critical Value (%s): %.3f' % (key, value))\n"
   ]
  },
  {
   "cell_type": "code",
   "execution_count": null,
   "id": "5814454f",
   "metadata": {},
   "outputs": [],
   "source": []
  },
  {
   "cell_type": "code",
   "execution_count": null,
   "id": "cedd8d26",
   "metadata": {},
   "outputs": [],
   "source": []
  }
 ],
 "metadata": {
  "kernelspec": {
   "display_name": "Python 3 (ipykernel)",
   "language": "python",
   "name": "python3"
  },
  "language_info": {
   "codemirror_mode": {
    "name": "ipython",
    "version": 3
   },
   "file_extension": ".py",
   "mimetype": "text/x-python",
   "name": "python",
   "nbconvert_exporter": "python",
   "pygments_lexer": "ipython3",
   "version": "3.11.5"
  }
 },
 "nbformat": 4,
 "nbformat_minor": 5
}
